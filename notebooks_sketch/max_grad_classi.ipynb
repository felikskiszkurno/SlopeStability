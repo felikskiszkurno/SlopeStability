{
 "cells": [
  {
   "cell_type": "code",
   "execution_count": 16,
   "metadata": {
    "collapsed": true
   },
   "outputs": [],
   "source": [
    "import pandas as pd\n",
    "import numpy as np\n",
    "import matplotlib.pyplot as plt\n",
    "import slopestabilitytools\n",
    "import math\n",
    "from scipy import interpolate"
   ]
  },
  {
   "cell_type": "code",
   "execution_count": 7,
   "outputs": [],
   "source": [
    "def mov_avg(array, window_length, *, method='same'):\n",
    "    array_avg = np.convolve(array, np.ones(window_length), method) / window_length\n",
    "    return array_avg"
   ],
   "metadata": {
    "collapsed": false,
    "pycharm": {
     "name": "#%%\n"
    }
   }
  },
  {
   "cell_type": "code",
   "execution_count": 3,
   "outputs": [],
   "source": [
    "test_result = pd.read_csv('../results/data/hor_12.csv')"
   ],
   "metadata": {
    "collapsed": false,
    "pycharm": {
     "name": "#%%\n"
    }
   }
  },
  {
   "cell_type": "code",
   "execution_count": 4,
   "outputs": [],
   "source": [
    "x = test_result['X']\n",
    "y = test_result['Y']\n",
    "result = test_result['RESN']\n",
    "data = {'result': result}\n",
    "\n",
    "xi, yi, data_gridded = slopestabilitytools.grid_data(x, y, data, regular_grid=True)\n",
    "\n",
    "result_grid = data_gridded['result']"
   ],
   "metadata": {
    "collapsed": false,
    "pycharm": {
     "name": "#%%\n"
    }
   }
  },
  {
   "cell_type": "code",
   "execution_count": 13,
   "outputs": [
    {
     "name": "stdout",
     "output_type": "stream",
     "text": [
      "300\n"
     ]
    }
   ],
   "source": [
    "gradient = np.gradient(result_grid, axis=0)\n",
    "gradient2 = np.gradient(gradient, axis=0)\n",
    "gradient2 = gradient2/np.amax(gradient2)\n",
    "ind = gradient2 < 0.15\n",
    "gradient2[ind] = 1\n",
    "\n",
    "inds = np.zeros(gradient2.T.shape[0])\n",
    "classes = np.zeros_like(gradient2.T)\n",
    "print(gradient2.T.shape[1])\n",
    "for num, column in enumerate(gradient2.T):\n",
    "    #print(num)\n",
    "    inds[num] = np.argmax(column)\n",
    "inds = mov_avg(inds, math.ceil(len(inds)/10))\n",
    "for num, column in enumerate(classes):\n",
    "    column[:int(inds[num])] = 0\n",
    "classes = classes.T"
   ],
   "metadata": {
    "collapsed": false,
    "pycharm": {
     "name": "#%%\n"
    }
   }
  },
  {
   "cell_type": "code",
   "execution_count": 14,
   "outputs": [
    {
     "name": "stdout",
     "output_type": "stream",
     "text": [
      "300\n",
      "[0 0 3 4 5]\n"
     ]
    },
    {
     "data": {
      "text/plain": "<matplotlib.contour.QuadContourSet at 0x7fec13377b10>"
     },
     "execution_count": 14,
     "metadata": {},
     "output_type": "execute_result"
    },
    {
     "data": {
      "text/plain": "<Figure size 432x288 with 1 Axes>",
      "image/png": "[encoded data removed]"
     },
     "metadata": {
      "needs_background": "light"
     },
     "output_type": "display_data"
    }
   ],
   "source": [
    "print(gradient2.T.shape[1])\n",
    "temp = np.array([1,2,3,4,5])\n",
    "temp[:2] = 0\n",
    "print(temp)\n",
    "plt.contourf(classes)"
   ],
   "metadata": {
    "collapsed": false,
    "pycharm": {
     "name": "#%%\n"
    }
   }
  },
  {
   "cell_type": "code",
   "execution_count": 20,
   "outputs": [],
   "source": [
    "classes_interp_f = interpolate.interp2d(xi, yi, classes)\n",
    "classes_interp = np.zeros_like(x)\n",
    "for cell_id in range(len(x)):\n",
    "    classes_interp[cell_id] = classes_interp_f(x[cell_id], y[cell_id])"
   ],
   "metadata": {
    "collapsed": false,
    "pycharm": {
     "name": "#%%\n"
    }
   }
  }
 ],
 "metadata": {
  "kernelspec": {
   "display_name": "Python 3",
   "language": "python",
   "name": "python3"
  },
  "language_info": {
   "codemirror_mode": {
    "name": "ipython",
    "version": 2
   },
   "file_extension": ".py",
   "mimetype": "text/x-python",
   "name": "python",
   "nbconvert_exporter": "python",
   "pygments_lexer": "ipython2",
   "version": "2.7.6"
  }
 },
 "nbformat": 4,
 "nbformat_minor": 0
}
{
 "cells": [
  {
   "cell_type": "code",
   "execution_count": 1,
   "metadata": {
    "collapsed": true
   },
   "outputs": [],
   "source": [
    "import pandas as pd"
   ]
  },
  {
   "cell_type": "code",
   "execution_count": 2,
   "outputs": [],
   "source": [
    "data = pd.read_csv('../results/data/hor_06.csv')\n",
    "classesn = data['CLASSN']"
   ],
   "metadata": {
    "collapsed": false,
    "pycharm": {
     "name": "#%%\n"
    }
   }
  },
  {
   "cell_type": "code",
   "execution_count": 11,
   "outputs": [
    {
     "ename": "SyntaxError",
     "evalue": "invalid syntax (<ipython-input-11-e87ec824444d>, line 12)",
     "output_type": "error",
     "traceback": [
      "\u001B[0;36m  File \u001B[0;32m\"<ipython-input-11-e87ec824444d>\"\u001B[0;36m, line \u001B[0;32m12\u001B[0m\n\u001B[0;31m    labels = [labels[idx] = labels_translator[key] for idx in id_new]\u001B[0m\n\u001B[0m                          ^\u001B[0m\n\u001B[0;31mSyntaxError\u001B[0m\u001B[0;31m:\u001B[0m invalid syntax\n"
     ]
    }
   ],
   "source": [
    "labels_translator = {0: 'Very Low',\n",
    "                         1: 'Low',\n",
    "                         2: 'Medium',\n",
    "                         3: 'High',\n",
    "                         4: 'Very High'}\n",
    "labels = [None] * len(classesn)\n",
    "find_all = lambda x, xs: [i for (y, i) in zip(xs, range(len(xs))) if x == y]\n",
    "for key in labels_translator.keys():\n",
    "    id_new = find_all(key, classesn)\n",
    "    for idx in id_new:\n",
    "        labels[idx] = labels_translator[key]"
   ],
   "metadata": {
    "collapsed": false,
    "pycharm": {
     "name": "#%%\n"
    }
   }
  }
 ],
 "metadata": {
  "kernelspec": {
   "display_name": "Python 3",
   "language": "python",
   "name": "python3"
  },
  "language_info": {
   "codemirror_mode": {
    "name": "ipython",
    "version": 2
   },
   "file_extension": ".py",
   "mimetype": "text/x-python",
   "name": "python",
   "nbconvert_exporter": "python",
   "pygments_lexer": "ipython2",
   "version": "2.7.6"
  }
 },
 "nbformat": 4,
 "nbformat_minor": 0
}
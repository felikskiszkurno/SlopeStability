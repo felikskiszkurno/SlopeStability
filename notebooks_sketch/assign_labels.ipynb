{
 "cells": [
  {
   "cell_type": "code",
   "execution_count": 4,
   "metadata": {
    "collapsed": true
   },
   "outputs": [],
   "source": [
    "import pandas as pd"
   ]
  },
  {
   "cell_type": "code",
   "execution_count": 5,
   "outputs": [],
   "source": [
    "data = pd.read_csv('../results/data/hor1_06.csv')\n",
    "classesn = data['CLASSN']"
   ],
   "metadata": {
    "collapsed": false,
    "pycharm": {
     "name": "#%%\n"
    }
   }
  },
  {
   "cell_type": "code",
   "execution_count": 7,
   "outputs": [],
   "source": [
    "labels_translator = {0: 'Very Low',\n",
    "                         1: 'Low',\n",
    "                         2: 'Medium',\n",
    "                         3: 'High',\n",
    "                         4: 'Very High'}\n",
    "\n",
    "labels = [None] * len(classesn)\n",
    "find_all = lambda x, xs: [i for (y, i) in zip(xs, range(len(xs))) if x == y]\n",
    "for key in labels_translator.keys():\n",
    "    id_new = find_all(key, classesn)\n",
    "    for idx in id_new:\n",
    "        labels[idx] = labels_translator[key]"
   ],
   "metadata": {
    "collapsed": false,
    "pycharm": {
     "name": "#%%\n"
    }
   }
  }
 ],
 "metadata": {
  "kernelspec": {
   "display_name": "Python 3",
   "language": "python",
   "name": "python3"
  },
  "language_info": {
   "codemirror_mode": {
    "name": "ipython",
    "version": 2
   },
   "file_extension": ".py",
   "mimetype": "text/x-python",
   "name": "python",
   "nbconvert_exporter": "python",
   "pygments_lexer": "ipython2",
   "version": "2.7.6"
  }
 },
 "nbformat": 4,
 "nbformat_minor": 0
}
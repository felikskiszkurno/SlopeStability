{
 "cells": [
  {
   "cell_type": "code",
   "execution_count": 1,
   "metadata": {},
   "outputs": [],
   "source": [
    "import numpy as np\n",
    "import matplotlib.pyplot as plt\n",
    "import pandas as pd\n",
    "import pygimli as pg\n",
    "import pygimli.meshtools as mt\n",
    "import pygimli.physics.ert as ert"
   ]
  },
  {
   "cell_type": "code",
   "execution_count": 2,
   "metadata": {},
   "outputs": [],
   "source": [
    "number_of_tests = 50\n",
    "rho_spread_factor = 1.5\n",
    "rho_max = 150\n",
    "layers_min = 1\n",
    "layers_max = 5\n",
    "min_depth = 1\n",
    "max_depth = 25\n",
    "\n",
    "world_boundary_v = [-10 * max_depth, 0]  # [right, left border] relatively to the middle\n",
    "world_boundary_h = [10 * max_depth, -4 * max_depth]  # [top, bottom border]\n"
   ]
  },
  {
   "cell_type": "code",
   "execution_count": 3,
   "metadata": {},
   "outputs": [],
   "source": [
    "layers_pos = [-8, -18]\n",
    "resistivity_map = [[1, 20], [2, 50], [3, 150]]"
   ]
  },
  {
   "cell_type": "code",
   "execution_count": 5,
   "metadata": {
    "collapsed": true,
    "jupyter": {
     "outputs_hidden": true
    }
   },
   "outputs": [
    {
     "name": "stderr",
     "output_type": "stream",
     "text": [
      "21/01/21 - 12:08:55 - pyGIMLi - \u001B[0;32;49mINFO\u001B[0m - Cache /home/felikskrno/anaconda3/envs/MasterEnv/lib/python3.7/site-packages/pygimli/physics/ert/ert.py:createGeometricFactors restored (0.0s x 3): /home/felikskrno/.var/app/com.jetbrains.PyCharm-Professional/config/pygimli/15058862444113807336\n",
      "21/01/21 - 12:08:55 - pyGIMLi - \u001B[0;32;49mINFO\u001B[0m - Found 2 regions.\n",
      "21/01/21 - 12:08:55 - pyGIMLi - \u001B[0;32;49mINFO\u001B[0m - Region with smallest marker set to background (marker=1)\n",
      "21/01/21 - 12:08:55 - pyGIMLi - \u001B[0;32;49mINFO\u001B[0m - Creating forward mesh from region infos.\n",
      "21/01/21 - 12:08:55 - Core - \u001B[0;33;49mWARNING\u001B[0m - Region Nr: 1  is background and should not get a model transformation.\n",
      "21/01/21 - 12:08:55 - Core - \u001B[0;33;49mWARNING\u001B[0m - Region Nr: 1  is background and should not get a model control.\n",
      "21/01/21 - 12:08:55 - pyGIMLi - \u001B[0;32;49mINFO\u001B[0m - Creating refined mesh (H2) to solve forward task.\n",
      "21/01/21 - 12:08:55 - pyGIMLi - \u001B[0;32;49mINFO\u001B[0m - Starting inversion.\n",
      "21/01/21 - 12:08:55 - pyGIMLi - \u001B[0;32;49mINFO\u001B[0m - Set default startmodel to median(data values)=26.606888203853856\n",
      "21/01/21 - 12:08:55 - pyGIMLi - \u001B[0;32;49mINFO\u001B[0m - Created startmodel from forward operator: 2373 [26.606888203853856,...,26.606888203853856]\n"
     ]
    },
    {
     "name": "stdout",
     "output_type": "stream",
     "text": [
      "relativeError set to a value > 0.5 .. assuming this is a percentage Error level dividing them by 100\n",
      "Data error estimate (min:max)  0.010000943083472701 : 0.0459008826982054\n",
      "\u001B[0;31;49m<class 'pygimli.physics.ert.ert.ERTManager'>.applyMesh(methodManager.py:647) : Mesh: Nodes: 1745 Cells: 3160 Boundaries: 4904\u001B[0m\n",
      "fop: <pygimli.physics.ert.ert.ERTModelling object at 0x7f1219d7d530>\n",
      "Data transformation: <pygimli.core._pygimli_.RTransLogLU object at 0x7f1219d7d3f0>\n",
      "Model transformation: <pygimli.core._pygimli_.RTransLog object at 0x7f1219d7d4b0>\n",
      "min/max (data): 18.96/63.91\n",
      "min/max (error): 1.0%/4.59%\n",
      "min/max (start model): 26.61/26.61\n",
      "--------------------------------------------------------------------------------\n",
      "--------------------------------------------------------------------------------\n",
      "inv.iter 2 ... chi² = 157.55 (dPhi = 23.86%) lam: 20.0\n",
      "--------------------------------------------------------------------------------\n",
      "inv.iter 3 ... chi² = 157.64 (dPhi = -0.06%) lam: 20.0\n",
      "--------------------------------------------------------------------------------\n",
      "inv.iter 4 ... chi² = 157.82 (dPhi = -0.11%) lam: 20.0\n",
      "################################################################################\n",
      "#                Abort criteria reached: dPhi = -0.11 (< 2.0%)                 #\n",
      "################################################################################\n",
      "Warning! unused keyword arguments {'paraDX': 0.25, 'paraMaxCellSize': 5, 'paraDepth': 25, 'quality': 34, 'zPower': 0.4}\n"
     ]
    }
   ],
   "source": [
    "\n",
    "\n",
    "test_results = {}\n",
    "\n",
    "# INPUT MODEL - SUBSURFACE START #\n",
    "world = mt.createWorld(start=world_boundary_v, end=world_boundary_h,\n",
    "                       layers=layers_pos)  # ,\n",
    "# marker=np.linspace(1, tests_horizontal['layer_n']['hor_1'],\n",
    "#                  tests_horizontal['layer_n']['hor_1']))\n",
    "\n",
    "geometry = world  # +block\n",
    "\n",
    "measurement_scheme = ert.createERTData(elecs=np.linspace(start=-45, stop=45, num=91), schemeName='dd')\n",
    "for electrode in measurement_scheme.sensors():\n",
    "    geometry.createNode(electrode)\n",
    "    geometry.createNode(electrode - [0, 0.1])  # What does it do?\n",
    "\n",
    "mesh = mt.createMesh(geometry, quality=34)  # , area=2)#\n",
    "\n",
    " # [0]\n",
    "\n",
    "input_model = pg.solver.parseMapToCellArray(resistivity_map, mesh)  # rename to input_mesh\n",
    "\n",
    "# INPUT MODEL - SUBSURFACE MODEL END ###\n",
    "\n",
    "# SIMULATE ERT MEASUREMENT - START ###\n",
    "data = ert.simulate(mesh, scheme=measurement_scheme, res=resistivity_map, noiseLevel=1, noiseAbs=1e-6, seed=1337)\n",
    "data.remove(data['rhoa'] < 0)\n",
    "# SIMULATE ERT MEASUREMENT - END ###\n",
    "\n",
    "ert_manager = ert.ERTManager(sr=False, useBert=True, verbose=True, debug=False)\n",
    "\n",
    "# RUN INVERSION #\n",
    "k0 = pg.physics.ert.createGeometricFactors(data)\n",
    "model_inverted = ert_manager.invert(data=data, lam=20, paraDX=0.25, paraMaxCellSize=5, paraDepth=max_depth, quality=34,\n",
    "                                    zPower=0.4)\n",
    "result = ert_manager.inv.model\n",
    "result_array = result.array()\n",
    "\n",
    "input_model2 = pg.interpolate(srcMesh=mesh, inVec=input_model, destPos=ert_manager.paraDomain.cellCenters())\n",
    "\n",
    "input_model2_array = input_model2.array()\n",
    "\n",
    "experiment_results = pd.DataFrame(data={'X': ert_manager.paraDomain.cellCenters().array()[:, 0],\n",
    "                                        'Y': ert_manager.paraDomain.cellCenters().array()[:, 1],\n",
    "                                        'Z': ert_manager.paraDomain.cellCenters().array()[:, 2],\n",
    "                                        'INM': input_model2_array,\n",
    "                                        'RES': result_array})#,\n",
    "                                        #'CLASS': input_class})\n",
    "\n",
    "\n",
    "#experiment_results.to_csv('results/results/'+test_name+'.csv')"
   ]
  },
  {
   "cell_type": "code",
   "execution_count": 22,
   "metadata": {
    "pycharm": {
     "name": "#%%\n"
    }
   },
   "outputs": [
    {
     "name": "stderr",
     "output_type": "stream",
     "text": [
      "21/01/21 - 12:32:41 - Core - \u001B[0;32;49mINFO\u001B[0m - More than 50 regions so we assume singles only regions.\n",
      "21/01/21 - 12:32:41 - Core - \u001B[0;32;49mINFO\u001B[0m - Applying *:* interregion constraints.\n",
      "21/01/21 - 12:32:42 - pyGIMLi - \u001B[0;32;49mINFO\u001B[0m - Found 2373 regions.\n",
      "21/01/21 - 12:32:42 - pyGIMLi - \u001B[0;32;49mINFO\u001B[0m - Region with smallest marker set to background (marker=0)\n",
      "21/01/21 - 12:32:42 - pyGIMLi - \u001B[0;32;49mINFO\u001B[0m - Creating forward mesh from region infos.\n",
      "21/01/21 - 12:32:42 - Core - \u001B[0;33;49mWARNING\u001B[0m - Region Nr: 0  is background and should not get a model transformation.\n",
      "21/01/21 - 12:32:42 - Core - \u001B[0;33;49mWARNING\u001B[0m - Region Nr: 0  is background and should not get a model control.\n",
      "21/01/21 - 12:32:42 - pyGIMLi - \u001B[0;32;49mINFO\u001B[0m - Creating refined mesh (H2) to solve forward task.\n"
     ]
    }
   ],
   "source": [
    "# Caluculate the Jacobian\n",
    "jac_mat = ert.ERTModelling()\n",
    "jac_mat.setData(measurement_scheme)\n",
    "jac_mat.setMesh(ert_manager.paraDomain)\n",
    "\n",
    "jac_model = np.ones(ert_manager.paraDomain.cellCount())\n",
    "jac_mat.createJacobian(jac_model)"
   ]
  },
  {
   "cell_type": "code",
   "execution_count": 23,
   "outputs": [
    {
     "name": "stdout",
     "output_type": "stream",
     "text": [
      "RMatrix: 3916 x 2372\n"
     ]
    }
   ],
   "source": [
    "print(jac_mat.jacobian())"
   ],
   "metadata": {
    "collapsed": false,
    "pycharm": {
     "name": "#%%\n"
    }
   }
  },
  {
   "cell_type": "code",
   "execution_count": 24,
   "outputs": [
    {
     "name": "stdout",
     "output_type": "stream",
     "text": [
      "2372 [3.023983379103861e-12,...,1.234553572748536e-10]\n",
      "2373 [0.5457237210451623,...,2.049497903414853]\n"
     ]
    },
    {
     "ename": "RuntimeError",
     "evalue": "/home/wagner/miniconda3/conda-bld/pygimli_1589132014332/work/gimli/gimli/core/src/vector.h: 671\t\tGIMLI::Vector<ValueType>& GIMLI::Vector<ValueType>::operator/=(const GIMLI::Vector<ValueType>&) [with ValueType = double]  2372 != 2373",
     "output_type": "error",
     "traceback": [
      "\u001B[0;31m---------------------------------------------------------------------------\u001B[0m",
      "\u001B[0;31mRuntimeError\u001B[0m                              Traceback (most recent call last)",
      "\u001B[0;32m<ipython-input-24-19876469f4b8>\u001B[0m in \u001B[0;36m<module>\u001B[0;34m\u001B[0m\n\u001B[1;32m      3\u001B[0m     \u001B[0mprint\u001B[0m\u001B[0;34m(\u001B[0m\u001B[0msens\u001B[0m\u001B[0;34m)\u001B[0m\u001B[0;34m\u001B[0m\u001B[0;34m\u001B[0m\u001B[0m\n\u001B[1;32m      4\u001B[0m     \u001B[0mprint\u001B[0m\u001B[0;34m(\u001B[0m\u001B[0mert_manager\u001B[0m\u001B[0;34m.\u001B[0m\u001B[0mparaDomain\u001B[0m\u001B[0;34m.\u001B[0m\u001B[0mcellSizes\u001B[0m\u001B[0;34m(\u001B[0m\u001B[0;34m)\u001B[0m\u001B[0;34m)\u001B[0m\u001B[0;34m\u001B[0m\u001B[0;34m\u001B[0m\u001B[0m\n\u001B[0;32m----> 5\u001B[0;31m     \u001B[0mprint\u001B[0m\u001B[0;34m(\u001B[0m\u001B[0msens\u001B[0m\u001B[0;34m/\u001B[0m\u001B[0mert_manager\u001B[0m\u001B[0;34m.\u001B[0m\u001B[0mparaDomain\u001B[0m\u001B[0;34m.\u001B[0m\u001B[0mcellSizes\u001B[0m\u001B[0;34m(\u001B[0m\u001B[0;34m)\u001B[0m\u001B[0;34m)\u001B[0m\u001B[0;34m\u001B[0m\u001B[0;34m\u001B[0m\u001B[0m\n\u001B[0m\u001B[1;32m      6\u001B[0m     \u001B[0mnormsens\u001B[0m \u001B[0;34m=\u001B[0m \u001B[0mpg\u001B[0m\u001B[0;34m.\u001B[0m\u001B[0mutils\u001B[0m\u001B[0;34m.\u001B[0m\u001B[0mlogDropTol\u001B[0m\u001B[0;34m(\u001B[0m\u001B[0msens\u001B[0m\u001B[0;34m/\u001B[0m\u001B[0mert_manager\u001B[0m\u001B[0;34m.\u001B[0m\u001B[0mparaDomain\u001B[0m\u001B[0;34m.\u001B[0m\u001B[0mcellSizes\u001B[0m\u001B[0;34m(\u001B[0m\u001B[0;34m)\u001B[0m\u001B[0;34m,\u001B[0m \u001B[0;36m8e-4\u001B[0m\u001B[0;34m)\u001B[0m\u001B[0;34m\u001B[0m\u001B[0;34m\u001B[0m\u001B[0m\n\u001B[1;32m      7\u001B[0m     \u001B[0mnormsens\u001B[0m \u001B[0;34m/=\u001B[0m \u001B[0mnp\u001B[0m\u001B[0;34m.\u001B[0m\u001B[0mmax\u001B[0m\u001B[0;34m(\u001B[0m\u001B[0mnormsens\u001B[0m\u001B[0;34m)\u001B[0m\u001B[0;34m\u001B[0m\u001B[0;34m\u001B[0m\u001B[0m\n",
      "\u001B[0;32m~/anaconda3/envs/MasterEnv/lib/python3.7/site-packages/pygimli/core/__init__.py\u001B[0m in \u001B[0;36m__newRVectorTrueDiv__\u001B[0;34m(a, b)\u001B[0m\n\u001B[1;32m    347\u001B[0m         \u001B[0;32mif\u001B[0m \u001B[0misinstance\u001B[0m\u001B[0;34m(\u001B[0m\u001B[0ma\u001B[0m\u001B[0;34m,\u001B[0m \u001B[0mint\u001B[0m\u001B[0;34m)\u001B[0m\u001B[0;34m:\u001B[0m\u001B[0;34m\u001B[0m\u001B[0;34m\u001B[0m\u001B[0m\n\u001B[1;32m    348\u001B[0m             \u001B[0;32mreturn\u001B[0m \u001B[0m__oldRVectorTrueDiv__\u001B[0m\u001B[0;34m(\u001B[0m\u001B[0mfloat\u001B[0m\u001B[0;34m(\u001B[0m\u001B[0ma\u001B[0m\u001B[0;34m)\u001B[0m\u001B[0;34m,\u001B[0m \u001B[0mb\u001B[0m\u001B[0;34m)\u001B[0m\u001B[0;34m\u001B[0m\u001B[0;34m\u001B[0m\u001B[0m\n\u001B[0;32m--> 349\u001B[0;31m         \u001B[0;32mreturn\u001B[0m \u001B[0m__oldRVectorTrueDiv__\u001B[0m\u001B[0;34m(\u001B[0m\u001B[0ma\u001B[0m\u001B[0;34m,\u001B[0m \u001B[0mb\u001B[0m\u001B[0;34m)\u001B[0m\u001B[0;34m\u001B[0m\u001B[0;34m\u001B[0m\u001B[0m\n\u001B[0m\u001B[1;32m    350\u001B[0m \u001B[0;34m\u001B[0m\u001B[0m\n\u001B[1;32m    351\u001B[0m     \u001B[0m_pygimli_\u001B[0m\u001B[0;34m.\u001B[0m\u001B[0mRVector\u001B[0m\u001B[0;34m.\u001B[0m\u001B[0m__truediv__\u001B[0m \u001B[0;34m=\u001B[0m \u001B[0m__newRVectorTrueDiv__\u001B[0m\u001B[0;34m\u001B[0m\u001B[0;34m\u001B[0m\u001B[0m\n",
      "\u001B[0;31mRuntimeError\u001B[0m: /home/wagner/miniconda3/conda-bld/pygimli_1589132014332/work/gimli/gimli/core/src/vector.h: 671\t\tGIMLI::Vector<ValueType>& GIMLI::Vector<ValueType>::operator/=(const GIMLI::Vector<ValueType>&) [with ValueType = double]  2372 != 2373"
     ]
    }
   ],
   "source": [
    "for i, sens in enumerate(jac_mat.jacobian()):\n",
    "    #print(i)\n",
    "    print(sens)\n",
    "    print(ert_manager.paraDomain.cellSizes())\n",
    "    print(sens/ert_manager.paraDomain.cellSizes())\n",
    "    normsens = pg.utils.logDropTol(sens/ert_manager.paraDomain.cellSizes(), 8e-4)\n",
    "    normsens /= np.max(normsens)\n",
    "    pg.show(mesh, normsens, cMap=\"RdGy_r\", orientation=\"vertical\",\n",
    "            label=\"Normalized\\nsensitivity\", nLevs=3, cMin=-1, cMax=1)"
   ],
   "metadata": {
    "collapsed": false,
    "pycharm": {
     "name": "#%%\n"
    }
   }
  },
  {
   "cell_type": "code",
   "execution_count": null,
   "outputs": [],
   "source": [],
   "metadata": {
    "collapsed": false,
    "pycharm": {
     "name": "#%%\n"
    }
   }
  },
  {
   "cell_type": "code",
   "execution_count": 25,
   "outputs": [
    {
     "name": "stderr",
     "output_type": "stream",
     "text": [
      "21/01/21 - 12:46:29 - pyGIMLi - \u001B[0;32;49mINFO\u001B[0m - Found 3 regions.\n",
      "21/01/21 - 12:46:29 - pyGIMLi - \u001B[0;32;49mINFO\u001B[0m - Region with smallest marker set to background (marker=1)\n",
      "21/01/21 - 12:46:29 - pyGIMLi - \u001B[0;32;49mINFO\u001B[0m - Creating forward mesh from region infos.\n",
      "21/01/21 - 12:46:29 - Core - \u001B[0;33;49mWARNING\u001B[0m - Region Nr: 1  is background and should not get a model transformation.\n",
      "21/01/21 - 12:46:29 - Core - \u001B[0;33;49mWARNING\u001B[0m - Region Nr: 1  is background and should not get a model control.\n",
      "21/01/21 - 12:46:29 - pyGIMLi - \u001B[0;32;49mINFO\u001B[0m - Creating refined mesh (H2) to solve forward task.\n"
     ]
    }
   ],
   "source": [
    "# Caluculate the Jacobian with mesh\n",
    "jac_mat = ert.ERTModelling()\n",
    "jac_mat.setData(measurement_scheme)\n",
    "jac_mat.setMesh(mesh)\n",
    "\n",
    "jac_model = np.ones(mesh.cellCount())\n",
    "jac_mat.createJacobian(jac_model)"
   ],
   "metadata": {
    "collapsed": false,
    "pycharm": {
     "name": "#%%\n"
    }
   }
  },
  {
   "cell_type": "code",
   "execution_count": 26,
   "outputs": [
    {
     "name": "stdout",
     "output_type": "stream",
     "text": [
      "RMatrix: 3916 x 991\n"
     ]
    }
   ],
   "source": [
    "print(jac_mat.jacobian())"
   ],
   "metadata": {
    "collapsed": false,
    "pycharm": {
     "name": "#%%\n"
    }
   }
  },
  {
   "cell_type": "code",
   "execution_count": 27,
   "outputs": [
    {
     "name": "stdout",
     "output_type": "stream",
     "text": [
      "991 [4.825647623638317e-09,...,9.402004956049018e-11]\n",
      "4729 [4.545606125185435,...,294.73664991790736]\n"
     ]
    },
    {
     "ename": "RuntimeError",
     "evalue": "/home/wagner/miniconda3/conda-bld/pygimli_1589132014332/work/gimli/gimli/core/src/vector.h: 671\t\tGIMLI::Vector<ValueType>& GIMLI::Vector<ValueType>::operator/=(const GIMLI::Vector<ValueType>&) [with ValueType = double]  991 != 4729",
     "output_type": "error",
     "traceback": [
      "\u001B[0;31m---------------------------------------------------------------------------\u001B[0m",
      "\u001B[0;31mRuntimeError\u001B[0m                              Traceback (most recent call last)",
      "\u001B[0;32m<ipython-input-27-5de98bb806ac>\u001B[0m in \u001B[0;36m<module>\u001B[0;34m\u001B[0m\n\u001B[1;32m      3\u001B[0m     \u001B[0mprint\u001B[0m\u001B[0;34m(\u001B[0m\u001B[0msens\u001B[0m\u001B[0;34m)\u001B[0m\u001B[0;34m\u001B[0m\u001B[0;34m\u001B[0m\u001B[0m\n\u001B[1;32m      4\u001B[0m     \u001B[0mprint\u001B[0m\u001B[0;34m(\u001B[0m\u001B[0mmesh\u001B[0m\u001B[0;34m.\u001B[0m\u001B[0mcellSizes\u001B[0m\u001B[0;34m(\u001B[0m\u001B[0;34m)\u001B[0m\u001B[0;34m)\u001B[0m\u001B[0;34m\u001B[0m\u001B[0;34m\u001B[0m\u001B[0m\n\u001B[0;32m----> 5\u001B[0;31m     \u001B[0mprint\u001B[0m\u001B[0;34m(\u001B[0m\u001B[0msens\u001B[0m\u001B[0;34m/\u001B[0m\u001B[0mmesh\u001B[0m\u001B[0;34m.\u001B[0m\u001B[0mcellSizes\u001B[0m\u001B[0;34m(\u001B[0m\u001B[0;34m)\u001B[0m\u001B[0;34m)\u001B[0m\u001B[0;34m\u001B[0m\u001B[0;34m\u001B[0m\u001B[0m\n\u001B[0m\u001B[1;32m      6\u001B[0m     \u001B[0mnormsens\u001B[0m \u001B[0;34m=\u001B[0m \u001B[0mpg\u001B[0m\u001B[0;34m.\u001B[0m\u001B[0mutils\u001B[0m\u001B[0;34m.\u001B[0m\u001B[0mlogDropTol\u001B[0m\u001B[0;34m(\u001B[0m\u001B[0msens\u001B[0m\u001B[0;34m/\u001B[0m\u001B[0mmesh\u001B[0m\u001B[0;34m.\u001B[0m\u001B[0mcellSizes\u001B[0m\u001B[0;34m(\u001B[0m\u001B[0;34m)\u001B[0m\u001B[0;34m,\u001B[0m \u001B[0;36m8e-4\u001B[0m\u001B[0;34m)\u001B[0m\u001B[0;34m\u001B[0m\u001B[0;34m\u001B[0m\u001B[0m\n\u001B[1;32m      7\u001B[0m     \u001B[0mnormsens\u001B[0m \u001B[0;34m/=\u001B[0m \u001B[0mnp\u001B[0m\u001B[0;34m.\u001B[0m\u001B[0mmax\u001B[0m\u001B[0;34m(\u001B[0m\u001B[0mnormsens\u001B[0m\u001B[0;34m)\u001B[0m\u001B[0;34m\u001B[0m\u001B[0;34m\u001B[0m\u001B[0m\n",
      "\u001B[0;32m~/anaconda3/envs/MasterEnv/lib/python3.7/site-packages/pygimli/core/__init__.py\u001B[0m in \u001B[0;36m__newRVectorTrueDiv__\u001B[0;34m(a, b)\u001B[0m\n\u001B[1;32m    347\u001B[0m         \u001B[0;32mif\u001B[0m \u001B[0misinstance\u001B[0m\u001B[0;34m(\u001B[0m\u001B[0ma\u001B[0m\u001B[0;34m,\u001B[0m \u001B[0mint\u001B[0m\u001B[0;34m)\u001B[0m\u001B[0;34m:\u001B[0m\u001B[0;34m\u001B[0m\u001B[0;34m\u001B[0m\u001B[0m\n\u001B[1;32m    348\u001B[0m             \u001B[0;32mreturn\u001B[0m \u001B[0m__oldRVectorTrueDiv__\u001B[0m\u001B[0;34m(\u001B[0m\u001B[0mfloat\u001B[0m\u001B[0;34m(\u001B[0m\u001B[0ma\u001B[0m\u001B[0;34m)\u001B[0m\u001B[0;34m,\u001B[0m \u001B[0mb\u001B[0m\u001B[0;34m)\u001B[0m\u001B[0;34m\u001B[0m\u001B[0;34m\u001B[0m\u001B[0m\n\u001B[0;32m--> 349\u001B[0;31m         \u001B[0;32mreturn\u001B[0m \u001B[0m__oldRVectorTrueDiv__\u001B[0m\u001B[0;34m(\u001B[0m\u001B[0ma\u001B[0m\u001B[0;34m,\u001B[0m \u001B[0mb\u001B[0m\u001B[0;34m)\u001B[0m\u001B[0;34m\u001B[0m\u001B[0;34m\u001B[0m\u001B[0m\n\u001B[0m\u001B[1;32m    350\u001B[0m \u001B[0;34m\u001B[0m\u001B[0m\n\u001B[1;32m    351\u001B[0m     \u001B[0m_pygimli_\u001B[0m\u001B[0;34m.\u001B[0m\u001B[0mRVector\u001B[0m\u001B[0;34m.\u001B[0m\u001B[0m__truediv__\u001B[0m \u001B[0;34m=\u001B[0m \u001B[0m__newRVectorTrueDiv__\u001B[0m\u001B[0;34m\u001B[0m\u001B[0;34m\u001B[0m\u001B[0m\n",
      "\u001B[0;31mRuntimeError\u001B[0m: /home/wagner/miniconda3/conda-bld/pygimli_1589132014332/work/gimli/gimli/core/src/vector.h: 671\t\tGIMLI::Vector<ValueType>& GIMLI::Vector<ValueType>::operator/=(const GIMLI::Vector<ValueType>&) [with ValueType = double]  991 != 4729"
     ]
    }
   ],
   "source": [
    "for i, sens in enumerate(jac_mat.jacobian()):\n",
    "    #print(i)\n",
    "    print(sens)\n",
    "    print(mesh.cellSizes())\n",
    "    print(sens/mesh.cellSizes())\n",
    "    normsens = pg.utils.logDropTol(sens/mesh.cellSizes(), 8e-4)\n",
    "    normsens /= np.max(normsens)\n",
    "    pg.show(mesh, normsens, cMap=\"RdGy_r\", orientation=\"vertical\",\n",
    "            label=\"Normalized\\nsensitivity\", nLevs=3, cMin=-1, cMax=1)\n"
   ],
   "metadata": {
    "collapsed": false,
    "pycharm": {
     "name": "#%%\n"
    }
   }
  },
  {
   "cell_type": "code",
   "execution_count": 28,
   "outputs": [
    {
     "name": "stderr",
     "output_type": "stream",
     "text": [
      "21/01/21 - 12:48:15 - Core - \u001B[0;32;49mINFO\u001B[0m - More than 50 regions so we assume singles only regions.\n",
      "21/01/21 - 12:48:15 - Core - \u001B[0;32;49mINFO\u001B[0m - Applying *:* interregion constraints.\n",
      "21/01/21 - 12:48:16 - pyGIMLi - \u001B[0;32;49mINFO\u001B[0m - Found 2373 regions.\n",
      "21/01/21 - 12:48:16 - pyGIMLi - \u001B[0;32;49mINFO\u001B[0m - Region with smallest marker set to background (marker=0)\n",
      "21/01/21 - 12:48:16 - pyGIMLi - \u001B[0;32;49mINFO\u001B[0m - Creating forward mesh from region infos.\n",
      "21/01/21 - 12:48:16 - Core - \u001B[0;33;49mWARNING\u001B[0m - Region Nr: 0  is background and should not get a model transformation.\n",
      "21/01/21 - 12:48:16 - Core - \u001B[0;33;49mWARNING\u001B[0m - Region Nr: 0  is background and should not get a model control.\n",
      "21/01/21 - 12:48:16 - pyGIMLi - \u001B[0;32;49mINFO\u001B[0m - Creating refined mesh (H2) to solve forward task.\n"
     ]
    }
   ],
   "source": [
    "# Caluculate the Jacobian with ert_manager.paraDomain\n",
    "jac_mat = ert.ERTModelling()\n",
    "jac_mat.setData(measurement_scheme)\n",
    "jac_mat.setMesh(ert_manager.paraDomain)\n",
    "\n",
    "jac_model = np.ones(ert_manager.paraDomain.cellCount())\n",
    "jac_mat.createJacobian(jac_model)\n"
   ],
   "metadata": {
    "collapsed": false,
    "pycharm": {
     "name": "#%%\n"
    }
   }
  },
  {
   "cell_type": "code",
   "execution_count": 29,
   "outputs": [
    {
     "name": "stdout",
     "output_type": "stream",
     "text": [
      "RMatrix: 3916 x 2372\n"
     ]
    }
   ],
   "source": [
    "print(jac_mat.jacobian())"
   ],
   "metadata": {
    "collapsed": false,
    "pycharm": {
     "name": "#%%\n"
    }
   }
  },
  {
   "cell_type": "code",
   "execution_count": 30,
   "outputs": [
    {
     "name": "stdout",
     "output_type": "stream",
     "text": [
      "2372 [3.023983379103861e-12,...,1.234553572748536e-10]\n",
      "2373 [0.5457237210451623,...,2.049497903414853]\n"
     ]
    },
    {
     "ename": "RuntimeError",
     "evalue": "/home/wagner/miniconda3/conda-bld/pygimli_1589132014332/work/gimli/gimli/core/src/vector.h: 671\t\tGIMLI::Vector<ValueType>& GIMLI::Vector<ValueType>::operator/=(const GIMLI::Vector<ValueType>&) [with ValueType = double]  2372 != 2373",
     "output_type": "error",
     "traceback": [
      "\u001B[0;31m---------------------------------------------------------------------------\u001B[0m",
      "\u001B[0;31mRuntimeError\u001B[0m                              Traceback (most recent call last)",
      "\u001B[0;32m<ipython-input-30-4ace85999c7d>\u001B[0m in \u001B[0;36m<module>\u001B[0;34m\u001B[0m\n\u001B[1;32m      3\u001B[0m     \u001B[0mprint\u001B[0m\u001B[0;34m(\u001B[0m\u001B[0msens\u001B[0m\u001B[0;34m)\u001B[0m\u001B[0;34m\u001B[0m\u001B[0;34m\u001B[0m\u001B[0m\n\u001B[1;32m      4\u001B[0m     \u001B[0mprint\u001B[0m\u001B[0;34m(\u001B[0m\u001B[0mert_manager\u001B[0m\u001B[0;34m.\u001B[0m\u001B[0mparaDomain\u001B[0m\u001B[0;34m.\u001B[0m\u001B[0mcellSizes\u001B[0m\u001B[0;34m(\u001B[0m\u001B[0;34m)\u001B[0m\u001B[0;34m)\u001B[0m\u001B[0;34m\u001B[0m\u001B[0;34m\u001B[0m\u001B[0m\n\u001B[0;32m----> 5\u001B[0;31m     \u001B[0mprint\u001B[0m\u001B[0;34m(\u001B[0m\u001B[0msens\u001B[0m\u001B[0;34m/\u001B[0m\u001B[0mert_manager\u001B[0m\u001B[0;34m.\u001B[0m\u001B[0mparaDomain\u001B[0m\u001B[0;34m.\u001B[0m\u001B[0mcellSizes\u001B[0m\u001B[0;34m(\u001B[0m\u001B[0;34m)\u001B[0m\u001B[0;34m)\u001B[0m\u001B[0;34m\u001B[0m\u001B[0;34m\u001B[0m\u001B[0m\n\u001B[0m\u001B[1;32m      6\u001B[0m     \u001B[0mnormsens\u001B[0m \u001B[0;34m=\u001B[0m \u001B[0mpg\u001B[0m\u001B[0;34m.\u001B[0m\u001B[0mutils\u001B[0m\u001B[0;34m.\u001B[0m\u001B[0mlogDropTol\u001B[0m\u001B[0;34m(\u001B[0m\u001B[0msens\u001B[0m\u001B[0;34m/\u001B[0m\u001B[0mert_manager\u001B[0m\u001B[0;34m.\u001B[0m\u001B[0mparaDomain\u001B[0m\u001B[0;34m.\u001B[0m\u001B[0mcellSizes\u001B[0m\u001B[0;34m(\u001B[0m\u001B[0;34m)\u001B[0m\u001B[0;34m,\u001B[0m \u001B[0;36m8e-4\u001B[0m\u001B[0;34m)\u001B[0m\u001B[0;34m\u001B[0m\u001B[0;34m\u001B[0m\u001B[0m\n\u001B[1;32m      7\u001B[0m     \u001B[0mnormsens\u001B[0m \u001B[0;34m/=\u001B[0m \u001B[0mnp\u001B[0m\u001B[0;34m.\u001B[0m\u001B[0mmax\u001B[0m\u001B[0;34m(\u001B[0m\u001B[0mnormsens\u001B[0m\u001B[0;34m)\u001B[0m\u001B[0;34m\u001B[0m\u001B[0;34m\u001B[0m\u001B[0m\n",
      "\u001B[0;32m~/anaconda3/envs/MasterEnv/lib/python3.7/site-packages/pygimli/core/__init__.py\u001B[0m in \u001B[0;36m__newRVectorTrueDiv__\u001B[0;34m(a, b)\u001B[0m\n\u001B[1;32m    347\u001B[0m         \u001B[0;32mif\u001B[0m \u001B[0misinstance\u001B[0m\u001B[0;34m(\u001B[0m\u001B[0ma\u001B[0m\u001B[0;34m,\u001B[0m \u001B[0mint\u001B[0m\u001B[0;34m)\u001B[0m\u001B[0;34m:\u001B[0m\u001B[0;34m\u001B[0m\u001B[0;34m\u001B[0m\u001B[0m\n\u001B[1;32m    348\u001B[0m             \u001B[0;32mreturn\u001B[0m \u001B[0m__oldRVectorTrueDiv__\u001B[0m\u001B[0;34m(\u001B[0m\u001B[0mfloat\u001B[0m\u001B[0;34m(\u001B[0m\u001B[0ma\u001B[0m\u001B[0;34m)\u001B[0m\u001B[0;34m,\u001B[0m \u001B[0mb\u001B[0m\u001B[0;34m)\u001B[0m\u001B[0;34m\u001B[0m\u001B[0;34m\u001B[0m\u001B[0m\n\u001B[0;32m--> 349\u001B[0;31m         \u001B[0;32mreturn\u001B[0m \u001B[0m__oldRVectorTrueDiv__\u001B[0m\u001B[0;34m(\u001B[0m\u001B[0ma\u001B[0m\u001B[0;34m,\u001B[0m \u001B[0mb\u001B[0m\u001B[0;34m)\u001B[0m\u001B[0;34m\u001B[0m\u001B[0;34m\u001B[0m\u001B[0m\n\u001B[0m\u001B[1;32m    350\u001B[0m \u001B[0;34m\u001B[0m\u001B[0m\n\u001B[1;32m    351\u001B[0m     \u001B[0m_pygimli_\u001B[0m\u001B[0;34m.\u001B[0m\u001B[0mRVector\u001B[0m\u001B[0;34m.\u001B[0m\u001B[0m__truediv__\u001B[0m \u001B[0;34m=\u001B[0m \u001B[0m__newRVectorTrueDiv__\u001B[0m\u001B[0;34m\u001B[0m\u001B[0;34m\u001B[0m\u001B[0m\n",
      "\u001B[0;31mRuntimeError\u001B[0m: /home/wagner/miniconda3/conda-bld/pygimli_1589132014332/work/gimli/gimli/core/src/vector.h: 671\t\tGIMLI::Vector<ValueType>& GIMLI::Vector<ValueType>::operator/=(const GIMLI::Vector<ValueType>&) [with ValueType = double]  2372 != 2373"
     ]
    }
   ],
   "source": [
    "for i, sens in enumerate(jac_mat.jacobian()):\n",
    "    #print(i)\n",
    "    print(sens)\n",
    "    print(ert_manager.paraDomain.cellSizes())\n",
    "    print(sens/ert_manager.paraDomain.cellSizes())\n",
    "    normsens = pg.utils.logDropTol(sens/ert_manager.paraDomain.cellSizes(), 8e-4)\n",
    "    normsens /= np.max(normsens)\n",
    "    pg.show(ert_manager.paraDomain, normsens, cMap=\"RdGy_r\", orientation=\"vertical\",\n",
    "            label=\"Normalized\\nsensitivity\", nLevs=3, cMin=-1, cMax=1)"
   ],
   "metadata": {
    "collapsed": false,
    "pycharm": {
     "name": "#%%\n"
    }
   }
  }
 ],
 "metadata": {
  "kernelspec": {
   "display_name": "Python 3",
   "language": "python",
   "name": "python3"
  },
  "language_info": {
   "codemirror_mode": {
    "name": "ipython",
    "version": 3
   },
   "file_extension": ".py",
   "mimetype": "text/x-python",
   "name": "python",
   "nbconvert_exporter": "python",
   "pygments_lexer": "ipython3",
   "version": "3.7.9"
  }
 },
 "nbformat": 4,
 "nbformat_minor": 4
}
{
 "cells": [
  {
   "cell_type": "code",
   "execution_count": 1,
   "metadata": {
    "collapsed": true
   },
   "outputs": [],
   "source": [
    "import pandas as pd\n",
    "import numpy as np"
   ]
  },
  {
   "cell_type": "markdown",
   "source": [
    "In the text cells I give the best-coverage case number of tests. Each cells has a more reasonable parameters. Number of tests below each cell, is for the feasible approach. However, I am not sure how this will affect the generalization of the classifiers."
   ],
   "metadata": {
    "collapsed": false,
    "pycharm": {
     "name": "#%% md\n"
    }
   }
  },
  {
   "cell_type": "markdown",
   "source": [
    "## 1 Interface - 2 layers\n",
    "For 1 interface it looks quite simple and doable. All valid combinations of depth and resistivities can be tested with 432 profiles given the parameters defined below"
   ],
   "metadata": {
    "collapsed": false,
    "pycharm": {
     "name": "#%% md\n"
    }
   }
  },
  {
   "cell_type": "code",
   "execution_count": 2,
   "outputs": [
    {
     "name": "stdout",
     "output_type": "stream",
     "text": [
      "Number of tests: 8\n"
     ]
    }
   ],
   "source": [
    "test_def1 = np.array([]).reshape([0,2]) # This is the important thing (left column: resistivity, right column: depth)\n",
    "depth_def = np.array([]).reshape([0,1])\n",
    "res_def = np.array([]).reshape([0,1])\n",
    "start = -4; end = -21; step = -2 # Depth range\n",
    "start_res = 1; end_res = 3; step_res = 1# Resistivity range\n",
    "for res_1 in np.arange(start_res, end_res-step_res, step_res):\n",
    "    for res_2 in np.arange(res_1+step_res, end_res, step_res):\n",
    "        new_res_set = np.array([res_1, res_2]).reshape([2,1])\n",
    "        for depth_1 in np.arange(start, end-step, step):\n",
    "            new_set = np.array([0, depth_1]).reshape([2,1])\n",
    "            test_def_temp = np.append(new_res_set, new_set, axis=1)\n",
    "            test_def1 = np.append(test_def1, test_def_temp, axis=0)\n",
    "print('Number of tests: {:.0f}'.format(test_def1.shape[0]/2))"
   ],
   "metadata": {
    "collapsed": false,
    "pycharm": {
     "name": "#%% 1 interface\n"
    }
   }
  },
  {
   "cell_type": "markdown",
   "source": [
    "## 2 Interfaces - 3 layers\n",
    "Here it already gets harder. To get coverage of the same range of combinations as with 1 interface, 2730 profiles are needed."
   ],
   "metadata": {
    "collapsed": false,
    "pycharm": {
     "name": "#%% md\n"
    }
   }
  },
  {
   "cell_type": "code",
   "execution_count": 13,
   "outputs": [
    {
     "name": "stdout",
     "output_type": "stream",
     "text": [
      "Number of tests: 360\n"
     ]
    }
   ],
   "source": [
    "test_def2 = np.array([]).reshape([0,2]) # This is the important thing (left column: resistivity, right column: depth)\n",
    "depth_def = np.array([]).reshape([0,1])\n",
    "res_def = np.array([]).reshape([0,1])\n",
    "start = -4; end = -21; step = -4 # Depth range\n",
    "start_res = 5; end_res = 100; step_res = 20 # Resistivity range\n",
    "for res_1 in np.arange(start_res, end_res-2*step_res, step_res):\n",
    "    for res_2 in np.arange(res_1+step_res, end_res-step_res, step_res):\n",
    "        for res_3 in np.arange(res_2+step_res, end_res, step_res):\n",
    "            new_res_set = np.array([res_1, res_2, res_3]).reshape([3,1])\n",
    "            for depth_1 in np.arange(start, end-step, step):\n",
    "                for depth_2 in np.arange(depth_1+step, end, step):\n",
    "                    new_set = np.array([0, depth_1, depth_2]).reshape([3,1])\n",
    "                    test_def_temp = np.append(new_res_set, new_set, axis=1)\n",
    "                    test_def2 = np.append(test_def2, test_def_temp, axis=0)\n",
    "print('Number of tests: {:.0f}'.format(test_def2.shape[0]/3))"
   ],
   "metadata": {
    "collapsed": false,
    "pycharm": {
     "name": "#%% 2 interfaces\n"
    }
   }
  },
  {
   "cell_type": "code",
   "execution_count": 16,
   "outputs": [],
   "source": [
    "step = -4\n",
    "for depth_1 in np.arange(start, end-step, step):\n",
    "    for depth_2 in np.arange(depth_1+step, end, step):\n",
    "        new_set = np.array([0, depth_1, depth_2]).reshape([3,1])\n",
    "        test_def_temp = np.append(new_res_set, new_set, axis=1)\n",
    "        test_def2 = np.append(test_def2, test_def_temp, axis=0)"
   ],
   "metadata": {
    "collapsed": false,
    "pycharm": {
     "name": "#%%\n"
    }
   }
  },
  {
   "cell_type": "markdown",
   "source": [
    "## 3 interfaces - 4 layers\n",
    "Here it gets awful. For the same coverage of combinations 122 694 profiles would be needed. This is not feasible, not even with Sebastians server."
   ],
   "metadata": {
    "collapsed": false,
    "pycharm": {
     "name": "#%% md\n"
    }
   }
  },
  {
   "cell_type": "code",
   "execution_count": 9,
   "outputs": [
    {
     "name": "stdout",
     "output_type": "stream",
     "text": [
      "Number of tests: 20\n"
     ]
    }
   ],
   "source": [
    "test_def3 = np.array([]).reshape([0,2]) # This is the important thing (left column: resistivity, right column: depth)\n",
    "depth_def = np.array([]).reshape([0,1])\n",
    "res_def = np.array([]).reshape([0,1])\n",
    "start = -4; end = -20; step = -4 # Depth range\n",
    "start_res = 1; end_res = 6; step_res = 1 # Resistivity range\n",
    "for res_1 in np.arange(start_res, end_res-3*step_res, step_res):\n",
    "    for res_2 in np.arange(res_1+step_res, end_res-2*step_res, step_res):\n",
    "        for res_3 in np.arange(res_2+step_res, end_res-step_res, step_res):\n",
    "            for res_4 in np.arange(res_3+step_res, end_res, step_res):\n",
    "                new_res_set = np.array([res_1, res_2, res_3, res_4]).reshape([4,1])\n",
    "                for depth_1 in np.arange(start, end-2*step, step):\n",
    "                    for depth_2 in np.arange(depth_1+step, end-step, step):\n",
    "                        for depth_3 in np.arange(depth_2+step, end, step):\n",
    "                            new_set = np.array([0, depth_1, depth_2, depth_3]).reshape([4,1])\n",
    "                            test_def_temp = np.append(new_res_set, new_set, axis=1)\n",
    "                            test_def3 = np.append(test_def3, test_def_temp, axis=0)\n",
    "print('Number of tests: {:.0f}'.format(test_def3.shape[0]/4))"
   ],
   "metadata": {
    "collapsed": false,
    "pycharm": {
     "name": "#%% 3 interfaces\n"
    }
   }
  },
  {
   "cell_type": "code",
   "execution_count": 13,
   "outputs": [],
   "source": [
    "test_def3 = np.array([]).reshape([0,1])\n",
    "for depth_1 in np.arange(start, end-2*step, step):\n",
    "    for depth_2 in np.arange(depth_1+step, end-step, step):\n",
    "        for depth_3 in np.arange(depth_2+step, end, step):\n",
    "            new_set = np.array([0, depth_1, depth_2, depth_3]).reshape([4,1])\n",
    "            test_def3 = np.append(test_def3, new_set, axis=0)"
   ],
   "metadata": {
    "collapsed": false,
    "pycharm": {
     "name": "#%%\n"
    }
   }
  },
  {
   "cell_type": "code",
   "execution_count": 5,
   "outputs": [],
   "source": [
    "#test_def_all = np.append(test_def1, test_def2, axis=0)\n",
    "#test_def_all = np.append(test_def_all, test_def3, axis=0)\n",
    "test_def_df = pd.DataFrame(test_def1, columns=['RHO', 'POS'])\n",
    "test_def_df.to_csv('temp.csv')"
   ],
   "metadata": {
    "collapsed": false,
    "pycharm": {
     "name": "#%%\n"
    }
   }
  }
 ],
 "metadata": {
  "kernelspec": {
   "display_name": "Python 3",
   "language": "python",
   "name": "python3"
  },
  "language_info": {
   "codemirror_mode": {
    "name": "ipython",
    "version": 2
   },
   "file_extension": ".py",
   "mimetype": "text/x-python",
   "name": "python",
   "nbconvert_exporter": "python",
   "pygments_lexer": "ipython2",
   "version": "2.7.6"
  }
 },
 "nbformat": 4,
 "nbformat_minor": 0
}
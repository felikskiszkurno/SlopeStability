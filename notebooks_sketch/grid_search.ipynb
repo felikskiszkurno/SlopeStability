{
 "cells": [
  {
   "cell_type": "code",
   "execution_count": 1,
   "metadata": {
    "collapsed": true
   },
   "outputs": [],
   "source": [
    "import slopestabilitytools\n",
    "import slopestabilityML\n",
    "import settings\n",
    "\n",
    "import pandas as pd\n",
    "\n",
    "from sklearn.preprocessing import StandardScaler, OneHotEncoder\n",
    "from sklearn.compose import ColumnTransformer\n",
    "from sklearn.pipeline import make_pipeline"
   ]
  },
  {
   "cell_type": "markdown",
   "source": [
    "### Read and preprocess data"
   ],
   "metadata": {
    "collapsed": false,
    "pycharm": {
     "name": "#%% md\n"
    }
   }
  },
  {
   "cell_type": "code",
   "execution_count": 2,
   "outputs": [
    {
     "ename": "AttributeError",
     "evalue": "module 'settings' has no attribute 'settings'",
     "output_type": "error",
     "traceback": [
      "\u001B[0;31m---------------------------------------------------------------------------\u001B[0m",
      "\u001B[0;31mAttributeError\u001B[0m                            Traceback (most recent call last)",
      "\u001B[0;32m<ipython-input-2-ba85f918aa07>\u001B[0m in \u001B[0;36m<module>\u001B[0;34m\u001B[0m\n\u001B[0;32m----> 1\u001B[0;31m \u001B[0mtest_results\u001B[0m \u001B[0;34m=\u001B[0m \u001B[0mslopestabilitytools\u001B[0m\u001B[0;34m.\u001B[0m\u001B[0mdatamanagement\u001B[0m\u001B[0;34m.\u001B[0m\u001B[0mimport_tests\u001B[0m\u001B[0;34m(\u001B[0m\u001B[0;34m)\u001B[0m\u001B[0;34m\u001B[0m\u001B[0;34m\u001B[0m\u001B[0m\n\u001B[0m\u001B[1;32m      2\u001B[0m \u001B[0mis_success\u001B[0m \u001B[0;34m=\u001B[0m \u001B[0mslopestabilitytools\u001B[0m\u001B[0;34m.\u001B[0m\u001B[0mfolder_structure\u001B[0m\u001B[0;34m.\u001B[0m\u001B[0mcreate_folder_structure\u001B[0m\u001B[0;34m(\u001B[0m\u001B[0;34m)\u001B[0m\u001B[0;34m\u001B[0m\u001B[0;34m\u001B[0m\u001B[0m\n\u001B[1;32m      3\u001B[0m \u001B[0mrandom_seed\u001B[0m \u001B[0;34m=\u001B[0m \u001B[0;36m999\u001B[0m\u001B[0;34m\u001B[0m\u001B[0;34m\u001B[0m\u001B[0m\n\u001B[1;32m      4\u001B[0m \u001B[0mtest_training\u001B[0m\u001B[0;34m,\u001B[0m \u001B[0mtest_prediction\u001B[0m \u001B[0;34m=\u001B[0m \u001B[0mslopestabilityML\u001B[0m\u001B[0;34m.\u001B[0m\u001B[0msplit_dataset\u001B[0m\u001B[0;34m(\u001B[0m\u001B[0mtest_results\u001B[0m\u001B[0;34m.\u001B[0m\u001B[0mkeys\u001B[0m\u001B[0;34m(\u001B[0m\u001B[0;34m)\u001B[0m\u001B[0;34m,\u001B[0m \u001B[0mrandom_seed\u001B[0m\u001B[0;34m)\u001B[0m\u001B[0;34m\u001B[0m\u001B[0;34m\u001B[0m\u001B[0m\n\u001B[1;32m      5\u001B[0m \u001B[0mnum_feat\u001B[0m \u001B[0;34m=\u001B[0m \u001B[0;34m[\u001B[0m\u001B[0;34m]\u001B[0m\u001B[0;34m\u001B[0m\u001B[0;34m\u001B[0m\u001B[0m\n",
      "\u001B[0;32m~/Documents/Studies/MasterThesis/PythonProjects/SlopeStability/slopestabilitytools/datamanagement/import_tests.py\u001B[0m in \u001B[0;36mimport_tests\u001B[0;34m(abs_path)\u001B[0m\n\u001B[1;32m     15\u001B[0m \u001B[0;32mdef\u001B[0m \u001B[0mimport_tests\u001B[0m\u001B[0;34m(\u001B[0m\u001B[0mabs_path\u001B[0m\u001B[0;34m=\u001B[0m\u001B[0;34m''\u001B[0m\u001B[0;34m)\u001B[0m\u001B[0;34m:\u001B[0m\u001B[0;34m\u001B[0m\u001B[0;34m\u001B[0m\u001B[0m\n\u001B[1;32m     16\u001B[0m     \u001B[0mtest_results\u001B[0m \u001B[0;34m=\u001B[0m \u001B[0;34m{\u001B[0m\u001B[0;34m}\u001B[0m\u001B[0;34m\u001B[0m\u001B[0;34m\u001B[0m\u001B[0m\n\u001B[0;32m---> 17\u001B[0;31m     \u001B[0mtest_names\u001B[0m \u001B[0;34m=\u001B[0m \u001B[0mslopestabilitytools\u001B[0m\u001B[0;34m.\u001B[0m\u001B[0mdatamanagement\u001B[0m\u001B[0;34m.\u001B[0m\u001B[0mtest_list\u001B[0m\u001B[0;34m(\u001B[0m\u001B[0;34m'.csv'\u001B[0m\u001B[0;34m,\u001B[0m \u001B[0mabs_path\u001B[0m\u001B[0;34m=\u001B[0m\u001B[0mabs_path\u001B[0m\u001B[0;34m)\u001B[0m\u001B[0;34m\u001B[0m\u001B[0;34m\u001B[0m\u001B[0m\n\u001B[0m\u001B[1;32m     18\u001B[0m \u001B[0;34m\u001B[0m\u001B[0m\n\u001B[1;32m     19\u001B[0m     \u001B[0;32mfor\u001B[0m \u001B[0mtest_name\u001B[0m \u001B[0;32min\u001B[0m \u001B[0mtest_names\u001B[0m\u001B[0;34m:\u001B[0m\u001B[0;34m\u001B[0m\u001B[0;34m\u001B[0m\u001B[0m\n",
      "\u001B[0;32m~/Documents/Studies/MasterThesis/PythonProjects/SlopeStability/slopestabilitytools/datamanagement/test_list.py\u001B[0m in \u001B[0;36mtest_list\u001B[0;34m(extension, abs_path)\u001B[0m\n\u001B[1;32m     16\u001B[0m \u001B[0;32mdef\u001B[0m \u001B[0mtest_list\u001B[0m\u001B[0;34m(\u001B[0m\u001B[0mextension\u001B[0m\u001B[0;34m,\u001B[0m \u001B[0;34m*\u001B[0m\u001B[0;34m,\u001B[0m \u001B[0mabs_path\u001B[0m\u001B[0;34m=\u001B[0m\u001B[0;34m''\u001B[0m\u001B[0;34m)\u001B[0m\u001B[0;34m:\u001B[0m\u001B[0;34m\u001B[0m\u001B[0;34m\u001B[0m\u001B[0m\n\u001B[1;32m     17\u001B[0m \u001B[0;34m\u001B[0m\u001B[0m\n\u001B[0;32m---> 18\u001B[0;31m     \u001B[0mpath\u001B[0m \u001B[0;34m=\u001B[0m \u001B[0mabs_path\u001B[0m \u001B[0;34m+\u001B[0m \u001B[0msettings\u001B[0m\u001B[0;34m.\u001B[0m\u001B[0msettings\u001B[0m\u001B[0;34m[\u001B[0m\u001B[0;34m'data_folder'\u001B[0m\u001B[0;34m]\u001B[0m\u001B[0;34m\u001B[0m\u001B[0;34m\u001B[0m\u001B[0m\n\u001B[0m\u001B[1;32m     19\u001B[0m     \u001B[0mfile_list\u001B[0m \u001B[0;34m=\u001B[0m \u001B[0mos\u001B[0m\u001B[0;34m.\u001B[0m\u001B[0mlistdir\u001B[0m\u001B[0;34m(\u001B[0m\u001B[0mpath\u001B[0m\u001B[0;34m)\u001B[0m\u001B[0;34m\u001B[0m\u001B[0;34m\u001B[0m\u001B[0m\n\u001B[1;32m     20\u001B[0m \u001B[0;34m\u001B[0m\u001B[0m\n",
      "\u001B[0;31mAttributeError\u001B[0m: module 'settings' has no attribute 'settings'"
     ]
    }
   ],
   "source": [
    "test_results = slopestabilitytools.datamanagement.import_tests()\n",
    "is_success = slopestabilitytools.folder_structure.create_folder_structure()\n",
    "random_seed = 999\n",
    "test_training, test_prediction = slopestabilityML.split_dataset(test_results.keys(), random_seed)\n",
    "num_feat = []\n",
    "if settings.settings['norm'] is True:\n",
    "    num_feat.append('RESN')\n",
    "else:\n",
    "    num_feat.append('RES')\n",
    "\n",
    "if settings.settings['sen'] is True:\n",
    "    num_feat.append('SEN')\n",
    "\n",
    "if settings.settings['depth'] is True:\n",
    "    num_feat.append('Y')\n",
    "\n",
    "num_trans = StandardScaler()\n",
    "\n",
    "if settings.settings['use_labels'] is True:\n",
    "    cat_feat = ['LABELS']\n",
    "    cat_lab = ['Very Low', 'Low', 'Medium', 'High', 'Very High']\n",
    "    cat_trans = OneHotEncoder(categories=[cat_lab])\n",
    "    preprocessor = ColumnTransformer(transformers=[('num', num_trans, num_feat)])\n",
    "    # ('cat', cat_trans, cat_feat)])\n",
    "\n",
    "else:\n",
    "    preprocessor = ColumnTransformer(transformers=[('num', num_trans, num_feat)])\n",
    "\n",
    "\n",
    "\n",
    "test_results_combined = pd.DataFrame()\n",
    "for name in test_training:\n",
    "    test_results_combined = test_results_combined.append(test_results[name])\n",
    "test_results_combined = test_results_combined.reset_index()\n",
    "test_results_combined = test_results_combined.drop(['index'], axis='columns')\n",
    "x_train, y_train = slopestabilityML.preprocess_data(test_results_combined)\n",
    "x_position = test_results_combined['X']"
   ],
   "metadata": {
    "collapsed": false,
    "pycharm": {
     "name": "#%%\n"
    }
   }
  },
  {
   "cell_type": "markdown",
   "source": [
    "### SVM"
   ],
   "metadata": {
    "collapsed": false,
    "pycharm": {
     "name": "#%% md\n"
    }
   }
  },
  {
   "cell_type": "code",
   "execution_count": null,
   "outputs": [],
   "source": [
    "from sklearn import svm\n",
    "from sklearn.model_selection import GridSearchCV\n",
    "svc_parameters = {}\n",
    "svc_classifier = svm.SVC()\n",
    "svc_pipeline = make_pipeline(preprocessor, svc_classifier)\n",
    "clf = GridSearchCV(svc_pipeline, svc_parameters)\n",
    "clf.fit(x_train, y_train)\n",
    "sorted(clf.cv_results_.keys())"
   ],
   "metadata": {
    "collapsed": false,
    "pycharm": {
     "name": "#%%\n"
    }
   }
  }
 ],
 "metadata": {
  "kernelspec": {
   "display_name": "Python 3",
   "language": "python",
   "name": "python3"
  },
  "language_info": {
   "codemirror_mode": {
    "name": "ipython",
    "version": 2
   },
   "file_extension": ".py",
   "mimetype": "text/x-python",
   "name": "python",
   "nbconvert_exporter": "python",
   "pygments_lexer": "ipython2",
   "version": "2.7.6"
  }
 },
 "nbformat": 4,
 "nbformat_minor": 0
}
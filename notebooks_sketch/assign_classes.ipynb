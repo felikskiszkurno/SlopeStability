{
 "cells": [
  {
   "cell_type": "code",
   "execution_count": 1,
   "metadata": {
    "collapsed": true
   },
   "outputs": [],
   "source": [
    "import numpy as np\n",
    "import sklearn"
   ]
  },
  {
   "cell_type": "code",
   "execution_count": 2,
   "outputs": [],
   "source": [
    "data = np.array([[1,10,25,33,40],[50,75,68,99,100]])\n",
    "classes_def = np.array([[0, 0, 0.1],\n",
    "                    [1, 0.1, 0.2],\n",
    "                    [2, 0.2, 0.3],\n",
    "                    [3, 0.3, 0.4],\n",
    "                    [4, 0.4, 0.5],\n",
    "                    [5, 0.5, 0.6],\n",
    "                    [6, 0.6, 0.7],\n",
    "                    [7, 0.7, 0.8],\n",
    "                    [8, 0.8, 0.9],\n",
    "                    [9, 0.9, 1.0]])"
   ],
   "metadata": {
    "collapsed": false,
    "pycharm": {
     "name": "#%% Create data to normalize\n"
    }
   }
  },
  {
   "cell_type": "code",
   "execution_count": 3,
   "outputs": [
    {
     "name": "stdout",
     "output_type": "stream",
     "text": [
      "[[0.01 0.1  0.25 0.33 0.4 ]\n",
      " [0.5  0.75 0.68 0.99 1.  ]]\n",
      "10\n"
     ]
    }
   ],
   "source": [
    "data_normal = data/np.amax(data)\n",
    "print(data_normal)\n",
    "print(classes_def.shape[0])"
   ],
   "metadata": {
    "collapsed": false,
    "pycharm": {
     "name": "#%% Normalize data\n"
    }
   }
  },
  {
   "cell_type": "code",
   "execution_count": 4,
   "outputs": [],
   "source": [
    "classes = data_normal\n",
    "classes_shape = classes.shape\n",
    "classes = classes.reshape([classes.size])\n",
    "class_pair = classes_def[0]\n",
    "#print(classes_def[0])\n",
    "# ind = np.argwhere(np.logical_and(classes > 0, classes < 0.5))\n",
    "#print(ind)\n",
    "#print(classes[ind])\n",
    "#classes(ind) = class_pair[0]"
   ],
   "metadata": {
    "collapsed": false,
    "pycharm": {
     "name": "#%% Assign classes\n"
    }
   }
  },
  {
   "cell_type": "code",
   "execution_count": 5,
   "outputs": [
    {
     "name": "stdout",
     "output_type": "stream",
     "text": [
      "[0.  0.  0.1]\n",
      "[[0]\n",
      " [1]]\n",
      "[1.  0.1 0.2]\n",
      "[]\n",
      "[2.  0.2 0.3]\n",
      "[[2]]\n",
      "[3.  0.3 0.4]\n",
      "[[3]\n",
      " [4]]\n",
      "[4.  0.4 0.5]\n",
      "[[5]]\n",
      "[5.  0.5 0.6]\n",
      "[]\n",
      "[6.  0.6 0.7]\n",
      "[[7]]\n",
      "[7.  0.7 0.8]\n",
      "[[6]]\n",
      "[8.  0.8 0.9]\n",
      "[]\n",
      "[9.  0.9 1. ]\n",
      "[[8]\n",
      " [9]]\n"
     ]
    },
    {
     "data": {
      "text/plain": "array([[0., 0., 2., 3., 3.],\n       [4., 7., 6., 9., 9.]])"
     },
     "execution_count": 5,
     "metadata": {},
     "output_type": "execute_result"
    }
   ],
   "source": [
    "for class_pair in classes_def:\n",
    "    print(class_pair)\n",
    "    ind = np.argwhere(np.logical_and(classes > class_pair[1], classes <= class_pair[2]))\n",
    "    print(ind)\n",
    "    classes[ind] = class_pair[0]\n",
    "classes.reshape(classes_shape)"
   ],
   "metadata": {
    "collapsed": false,
    "pycharm": {
     "name": "#%%\n"
    }
   }
  },
  {
   "cell_type": "code",
   "execution_count": 6,
   "outputs": [
    {
     "name": "stdout",
     "output_type": "stream",
     "text": [
      "[[1]]\n",
      "[0.  0.  0.1]\n",
      "[1.  0.1 0.2]\n",
      "[2.  0.2 0.3]\n",
      "[3.  0.3 0.4]\n",
      "[4.  0.4 0.5]\n",
      "[5.  0.5 0.6]\n",
      "[6.  0.6 0.7]\n",
      "[7.  0.7 0.8]\n",
      "[8.  0.8 0.9]\n",
      "[9.  0.9 1. ]\n"
     ]
    }
   ],
   "source": [
    "a = np.array([1, 2, 3, 9])\n",
    "print(np.argwhere(np.logical_and(a>1, a<3)))\n",
    "for clas in classes_def:\n",
    "    print(clas)"
   ],
   "metadata": {
    "collapsed": false,
    "pycharm": {
     "name": "#%%\n"
    }
   }
  },
  {
   "cell_type": "code",
   "execution_count": 6,
   "outputs": [],
   "source": [
    "# Generate classes autmatically for given number of classes\n",
    "class_num = 5\n",
    "class_spacing = 1 / class_num\n",
    "ids = np.linspace(0,class_num-1,class_num)\n",
    "class_start = np.linspace(0, 1-class_spacing, class_num)\n",
    "class_end = np.linspace(class_spacing, 1, class_num)\n",
    "classes_def = np.vstack((ids, class_start, class_end))\n",
    "classes_def = classes_def.T"
   ],
   "metadata": {
    "collapsed": false,
    "pycharm": {
     "name": "#%%\n"
    }
   }
  },
  {
   "cell_type": "code",
   "execution_count": 2,
   "outputs": [
    {
     "data": {
      "text/plain": "True"
     },
     "execution_count": 2,
     "metadata": {},
     "output_type": "execute_result"
    }
   ],
   "source": [
    "import sklearn.datasets\n",
    "X,y = sklearn.datasets.load_boston(return_X_y=True)\n",
    "X.shape[0] == y.shape[0]"
   ],
   "metadata": {
    "collapsed": false,
    "pycharm": {
     "name": "#%%\n"
    }
   }
  }
 ],
 "metadata": {
  "kernelspec": {
   "display_name": "Python 3",
   "language": "python",
   "name": "python3"
  },
  "language_info": {
   "codemirror_mode": {
    "name": "ipython",
    "version": 2
   },
   "file_extension": ".py",
   "mimetype": "text/x-python",
   "name": "python",
   "nbconvert_exporter": "python",
   "pygments_lexer": "ipython2",
   "version": "2.7.6"
  }
 },
 "nbformat": 4,
 "nbformat_minor": 0
}
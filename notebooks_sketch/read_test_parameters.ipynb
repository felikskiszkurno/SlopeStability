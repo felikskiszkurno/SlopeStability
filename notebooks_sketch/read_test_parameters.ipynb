{
 "cells": [
  {
   "cell_type": "code",
   "execution_count": 15,
   "metadata": {
    "collapsed": true
   },
   "outputs": [],
   "source": [
    "import pandas as pd\n",
    "import os.path\n",
    "import numpy as np\n",
    "import slostabcreatedata"
   ]
  },
  {
   "cell_type": "code",
   "execution_count": 16,
   "outputs": [],
   "source": [
    "params = pd.read_csv(os.path.abspath(os.path.join(os.getcwd(), os.pardir)) + '/' + 'TestDefinitions/hor_1layer_varying_depth.csv', header=1)"
   ],
   "metadata": {
    "collapsed": false,
    "pycharm": {
     "name": "#%%\n"
    }
   }
  },
  {
   "cell_type": "code",
   "execution_count": 18,
   "outputs": [
    {
     "name": "stdout",
     "output_type": "stream",
     "text": [
      "5\n",
      "15\n",
      "5\n",
      "15\n",
      "5\n",
      "15\n",
      "5\n",
      "15\n",
      "5\n",
      "15\n",
      "5\n",
      "15\n",
      "5\n",
      "15\n",
      "5\n",
      "15\n",
      "5\n",
      "15\n",
      "5\n",
      "15\n"
     ]
    }
   ],
   "source": [
    "test_definitions = {}\n",
    "test_names = params['NAME'].unique()\n",
    "\n",
    "for name in test_names:\n",
    "    params_temp = params[params['NAME'] == name]\n",
    "    rho_list = []\n",
    "    position = []\n",
    "    layer_id = 1\n",
    "    for i, row in params_temp.iterrows():\n",
    "        rho_list.append([layer_id, row['RHO']])\n",
    "        layer_id += 1\n",
    "        if row['POS'] is not 0:\n",
    "            position = position.append(row['POS'])\n",
    "        print(row['RHO'])\n",
    "    test_definitions[name] = {'layer_n': row['LAYER_N'], 'rho_values': rho_list, 'layer_pos': np.array(position)}\n",
    "\n",
    "#'hor1_01': {'layer_n': 1, 'rho_values': [[1, 5], [2, 15]], 'layers_pos': np.array([-5])}"
   ],
   "metadata": {
    "collapsed": false,
    "pycharm": {
     "name": "#%%\n"
    }
   }
  }
 ],
 "metadata": {
  "kernelspec": {
   "display_name": "Python 3",
   "language": "python",
   "name": "python3"
  },
  "language_info": {
   "codemirror_mode": {
    "name": "ipython",
    "version": 2
   },
   "file_extension": ".py",
   "mimetype": "text/x-python",
   "name": "python",
   "nbconvert_exporter": "python",
   "pygments_lexer": "ipython2",
   "version": "2.7.6"
  }
 },
 "nbformat": 4,
 "nbformat_minor": 0
}
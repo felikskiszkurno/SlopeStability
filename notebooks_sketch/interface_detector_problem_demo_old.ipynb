{
 "cells": [
  {
   "cell_type": "code",
   "execution_count": 1,
   "metadata": {
    "collapsed": true
   },
   "outputs": [],
   "source": [
    "# Interface detector based on max_gradient_classifier\n",
    "import pandas as pd\n",
    "import numpy as np\n",
    "import matplotlib.pyplot as plt"
   ]
  },
  {
   "cell_type": "code",
   "execution_count": 2,
   "outputs": [],
   "source": [
    "def mov_avg(array, window_length, *, method='same'):\n",
    "    array_avg = np.convolve(array, np.ones(window_length), method) / window_length\n",
    "    return array_avg"
   ],
   "metadata": {
    "collapsed": false,
    "pycharm": {
     "name": "#%%\n"
    }
   }
  },
  {
   "cell_type": "markdown",
   "source": [
    "## Synthetic Data\n",
    "I used this for development and testing. You will find an example with a proper profile later in the document.\n",
    "\n",
    "I didn't comment much on this section becuase it is just a prototype."
   ],
   "metadata": {
    "collapsed": false,
    "pycharm": {
     "name": "#%% md\n"
    }
   }
  },
  {
   "cell_type": "code",
   "execution_count": 34,
   "outputs": [],
   "source": [
    "result_grid = np.ones([250, 1000])\n",
    "result_grid[0:51, :] = 0\n",
    "result_grid[51:101, :] = 1\n",
    "result_grid[101:151, :] = 2\n",
    "result_grid[151:201, :] = 3\n",
    "result_grid[201:250, :] = 4\n",
    "depths = np.linspace(0, 200, 250)\n",
    "result_grid_rolled = np.roll(result_grid, -1, axis=0)\n",
    "result = result_grid - result_grid_rolled\n",
    "result[-1, :] = 0"
   ],
   "metadata": {
    "collapsed": false,
    "pycharm": {
     "name": "#%%\n"
    }
   }
  },
  {
   "cell_type": "code",
   "execution_count": 36,
   "outputs": [],
   "source": [
    "interface_id = []\n",
    "interface_n = []\n",
    "# This would be enough in a perfect profile\n",
    "for column in result.T:\n",
    "    indexes = np.where(column != 0)\n",
    "    interface_n.append(len(indexes[0]))\n",
    "    interface_id.append(indexes)\n",
    "interface_id[0] =  [np.array([50, 100, 150])]\n",
    "interface_id[5] = [np.array([100, 150])]\n",
    "interface_id[-1] = [np.array([50, 200])]\n",
    "interface_number = np.bincount(interface_n).argmax()  # Correct number of layers, from kind of voting\n",
    "#print(result.shape[1])\n",
    "interface_depths_ids = np.ones([interface_number, result.shape[1]])*float(\"NaN\")\n",
    "interface_depths = np.ones([interface_number, result.shape[1]])*float(\"NaN\")\n",
    "incomplete_detections = []\n",
    "# This loop checks if each column has a correct number of layers\n",
    "for col_num in range(len(interface_id)):\n",
    "    if len(interface_id[col_num][0]) == interface_number:\n",
    "        interface_depths_ids[:, col_num] = interface_id[col_num][0]\n",
    "        interface_depths[:, col_num] = depths[interface_id[col_num][0]]\n",
    "    else:\n",
    "        # If not, mark layer to be investigated again\n",
    "        incomplete_detections.append(col_num)"
   ],
   "metadata": {
    "collapsed": false,
    "pycharm": {
     "name": "#%%\n"
    }
   }
  },
  {
   "cell_type": "code",
   "execution_count": 44,
   "outputs": [
    {
     "name": "stdout",
     "output_type": "stream",
     "text": [
      "a\n",
      "[-59.83935743 -19.67871486  20.48192771  60.64257028]\n",
      "19.678714859437747\n",
      "[-109.83935743  -69.67871486  -29.51807229   10.64257028]\n",
      "10.642570281124506\n"
     ]
    }
   ],
   "source": [
    "'''\n",
    "This part of the code solves the problem of columns in which there are less layers found than there should be.\n",
    "Currently possibility of detected too many layers is not considered. TODO\n",
    "The detected interfaces should be matched to their neighbours based on the principle of the smallest difference.\n",
    "this is what variables diff and pos achieve.\n",
    "This is done separately for each column, marked in previous step to be investigate again.\n",
    "\n",
    "The if structure in the for loop handles two corner cases. Since I am calling neighbouring columns in the\n",
    "line where variable diff is defined, I had to consider, what to do if first and last columns will be investigated again.\n",
    "If and elif handle it and else handles all the columns between them.\n",
    "I know it would be enough to wrap only the diff line in this structure, but when I was developing the code\n",
    "I though, it may be necessary to make some more changes and it kind of stayed this way.\n",
    "'''\n",
    "for col_num_inc in incomplete_detections:\n",
    "    if col_num_inc is 0:  # Special case fo the first column\n",
    "        new_ids = np.ones([interface_number, 1])*float(\"NaN\")\n",
    "        for depth_id in interface_id[col_num_inc][0]:\n",
    "            depth_id_array = np.ones([interface_number, 1])*depth_id\n",
    "            # Calculate the difference between all detected interfaces and the neighbours (in terms of depth)\n",
    "            diff = interface_depths[:, col_num_inc+1].reshape([interface_number, 1]) - depth_id_array\n",
    "            # Find which interface is the closest match (in term of depth)\n",
    "            pos = np.where(abs(diff).reshape([len(diff)]) == np.amin(abs(diff)))\n",
    "            new_ids[int(pos[0])] = depths[depth_id]\n",
    "        interface_depths[:,col_num_inc] = new_ids.reshape([interface_number])\n",
    "    elif col_num_inc == result.shape[1]-1:  # Special case for the last column\n",
    "        new_ids = np.ones([interface_number, 1])*float(\"NaN\")\n",
    "        for depth_id in interface_id[col_num_inc][0]:\n",
    "            depth_id_array = np.ones([interface_number, 1])*depth_id\n",
    "            # Calculate the difference between all detected interfaces and the neighbours (in terms of depth)\n",
    "            diff = interface_depths[:, col_num_inc-1].reshape([interface_number, 1]) - depth_id_array\n",
    "             # Find which interface is the closest match (in term of depth)\n",
    "            pos = np.where(abs(diff).reshape([len(diff)]) == np.amin(abs(diff)))\n",
    "            new_ids[int(pos[0])] = depths[depth_id]\n",
    "        interface_depths[:,col_num_inc] = new_ids.reshape([interface_number])\n",
    "    else:  # Not special case for every other column\n",
    "        new_ids = np.ones([interface_number, 1])*float(\"NaN\")\n",
    "        for depth_id in interface_id[col_num_inc][0]:\n",
    "            depth_id_array = np.ones([interface_number, 1])*depth_id\n",
    "             # Calculate the difference between all detected interfaces and the neighbours (in terms of depth)\n",
    "            diff = ((interface_depths[:, col_num_inc-1].reshape([interface_number, 1])+interface_depths[:, col_num_inc-1].reshape([interface_number, 1]))/2) - depth_id_array\n",
    "            #print(diff.reshape([len(diff)]))\n",
    "            #print(np.amin(abs(diff)))\n",
    "             # Find which interface is the closest match (in term of depth)\n",
    "            pos = np.where(abs(diff).reshape([len(diff)]) == np.amin(abs(diff)))\n",
    "            new_ids[int(pos[0])] = depths[depth_id]\n",
    "        interface_depths[:,col_num_inc] = new_ids.reshape([interface_number])\n"
   ],
   "metadata": {
    "collapsed": false,
    "pycharm": {
     "name": "#%%\n"
    }
   }
  },
  {
   "cell_type": "markdown",
   "source": [
    "## Inverted profile\n",
    "#### Load data\n",
    "y_pred_grid_deri was obtained as follows:\n",
    "y_pred_grid_rolled = np.roll(y_pred_grid, -1, axis=0)\n",
    "y_pred_grid_deri = y_pred_grid - y_pred_grid_rolled\n",
    "#### Assumptions\n",
    "1. The classes only increase down the column.\n",
    "2. As a result of 1, np.where(column != 0), will return indexes increasing order."
   ],
   "metadata": {
    "collapsed": false,
    "pycharm": {
     "name": "#%% md\n"
    }
   }
  },
  {
   "cell_type": "code",
   "execution_count": 2,
   "outputs": [],
   "source": [
    "# X - values used in the grid\n",
    "xi = pd.read_csv('interface_detector_demo/xi_demo.csv', skiprows=1).drop(columns='0').to_numpy()\n",
    "# Y - depth, vaulues used in the grid\n",
    "yi = pd.read_csv('interface_detector_demo/yi_demo.csv', skiprows=1).drop(columns='0').to_numpy()\n",
    "# Grid with data defined with xi and yi\n",
    "y_pred_grid_deri = pd.read_csv('interface_detector_demo/profile_grided_derivative.csv', skiprows=1).drop(columns='0').to_numpy()\n",
    "# Since y_pred_grid_deri is obtained with roll, last row will always be non-zero, hence non existing interface at the\n",
    "# bottom of the profile will be added. Following line fixes it.\n",
    "y_pred_grid_deri[-1, :] = 0"
   ],
   "metadata": {
    "collapsed": false,
    "pycharm": {
     "name": "#%%\n"
    }
   }
  },
  {
   "cell_type": "markdown",
   "source": [
    "You won't see anything in the next figure. y_pred_grid_deri is a result of subtracting rolled profile from itself. Therefore only non zero values are the ones that are related to change of class in the colum."
   ],
   "metadata": {
    "collapsed": false,
    "pycharm": {
     "name": "#%% md\n"
    }
   }
  },
  {
   "cell_type": "code",
   "execution_count": 41,
   "outputs": [
    {
     "data": {
      "text/plain": "<matplotlib.contour.QuadContourSet at 0x7f698dffb590>"
     },
     "execution_count": 41,
     "metadata": {},
     "output_type": "execute_result"
    },
    {
     "data": {
      "text/plain": "<Figure size 432x288 with 1 Axes>",
      "image/png": "[encoded data removed]"
     },
     "metadata": {
      "needs_background": "light"
     },
     "output_type": "display_data"
    }
   ],
   "source": [
    "plt.contourf(y_pred_grid_deri)"
   ],
   "metadata": {
    "collapsed": false,
    "pycharm": {
     "name": "#%%\n"
    }
   }
  },
  {
   "cell_type": "code",
   "execution_count": 3,
   "outputs": [
    {
     "name": "stderr",
     "output_type": "stream",
     "text": [
      "/home/felikskrno/anaconda3/envs/SlopeStability/lib/python3.7/site-packages/ipykernel_launcher.py:10: FutureWarning: Using a non-tuple sequence for multidimensional indexing is deprecated; use `arr[tuple(seq)]` instead of `arr[seq]`. In the future this will be interpreted as an array index, `arr[np.array(seq)]`, which will result either in an error or a different result.\n",
      "  # Remove the CWD from sys.path while we load stuff.\n"
     ]
    }
   ],
   "source": [
    "min_thickness = 1  # Minimal thickness of layer in m\n",
    "interface_id = []\n",
    "interface_n = []\n",
    "interface_depth = []\n",
    "# The algorithm iterates over each column individually\n",
    "for column in y_pred_grid_deri.T:\n",
    "    # Any change of classes in a column will result in a non-zero value, (see Load data md cell)\n",
    "    indexes = list(np.where(column != 0))  # List of potential positions of interface\n",
    "    if indexes[0].size == 1:  # Only one interface detected\n",
    "        # This is the simple case, no need to check the thickness of the layer.\n",
    "        interface_n.append(len(indexes[0]))\n",
    "        interface_id.append(indexes)\n",
    "        interface_depth.append(yi[indexes])\n",
    "    else:  # Multiple potential interfaces detected\n",
    "        indexes_temp = []\n",
    "        depths_temp = []\n",
    "        indexes_copy = indexes\n",
    "        all_too_thin_layers_removed = False  # Set to false, in order to make sure while loop runs at least once\n",
    "        '''\n",
    "        The idea is, that if there is more than 1 class changes detected, loop will iterate over them,\n",
    "        check the distance between a currently considered index and tha one that comes next, until non of them\n",
    "        violate condition that thickness layer is less than defined minimum thickness.\n",
    "        '''\n",
    "        while all_too_thin_layers_removed is False:\n",
    "            all_too_thin_layers_removed = True\n",
    "            # Line above: If none pair of indexes will result in a layer, that is not thick enough\n",
    "            # to be considered as valid layer, it is the end of looking for invalid layers.\n",
    "            # No need to iterate anymore. It will stay true, throughout the last iteration and loop\n",
    "            # will end.\n",
    "            '''\n",
    "            I am not entirely sure, why it works like this but next if solves following problem:\n",
    "            if a list with more than one index is considered and due to insufficient thickness\n",
    "            it reduces to a single index, it will be returned as integer instead of list,\n",
    "            then at next iteration integer will crash the code, due to indexing.\n",
    "            There is probably nicer way around it, but for now it works.\n",
    "            So if indexes_copy is reduced to the integer, there is no need to iterate over it again,\n",
    "            as it contains only one index, so there is no thickness to consider anymore.\n",
    "            '''\n",
    "            if isinstance(indexes_copy[0], int) is False:\n",
    "                for index_id in range(indexes_copy[0].size-1):\n",
    "                    # upper line: -1 in range so that indexes can be considered in pairs like: a and a+1: 0 and 1, 1 and 2 and so on.\n",
    "                    # lower line: a currently considered pair of indexes is used to obtain depths of the potential interfaces\n",
    "                    diff = yi[indexes[0][index_id+1]] - yi[indexes[0][index_id]]  # calculate the potential layer thickness\n",
    "                    if abs(diff) <= min_thickness:  # Check if the layer is thick enough to be considered an independent layer.\n",
    "                        indexes_temp.append(int(round((indexes[0][index_id+1]+indexes[0][index_id])/2)))\n",
    "                        # Every violation of thickness condition will set it to false and force one more loop run over the list of indexes to check if all indexes comply with this condition.\n",
    "                        all_too_thin_layers_removed = False\n",
    "                    else:\n",
    "                        indexes_temp.append(indexes[0][index_id])\n",
    "                if abs(yi[indexes[0][-1]] - yi[indexes[0][-2]]) >= min_thickness:\n",
    "                    # Just an extra check to verify, that last and pre last indexes don't violate thickness condition.\n",
    "                    indexes_temp.append(indexes[0][-1])\n",
    "                indexes_copy = indexes_temp # Modified list has to be used for next iteration\n",
    "                indexes_temp = []\n",
    "        # This part runs, when there are none pairs of indexes left, that violate thickness condition\n",
    "        # Store results and proceed to the next column.\n",
    "        interface_n.append(len(indexes_copy))\n",
    "        interface_id.append(indexes_copy)\n",
    "        interface_depth.append(yi[indexes_copy])\n",
    "interface_number = np.bincount(interface_n).argmax()"
   ],
   "metadata": {
    "collapsed": false,
    "pycharm": {
     "name": "#%%\n"
    }
   }
  },
  {
   "cell_type": "markdown",
   "source": [
    "This test profile contains only one interface. Results should only contain one interface, but everywhere where interface_n has value greater than 1 and where interface_id and interface_depth contain arrays with multiple values, the distance between two potential interfaces exceeded threshold defined in min_thickness"
   ],
   "metadata": {
    "collapsed": false,
    "pycharm": {
     "name": "#%% md\n"
    }
   }
  },
  {
   "cell_type": "code",
   "execution_count": null,
   "outputs": [],
   "source": [
    "print(interface_number)\n",
    "print(interface_n)\n",
    "print(interface_id)\n",
    "#print(interface_depth)"
   ],
   "metadata": {
    "collapsed": false,
    "pycharm": {
     "name": "#%%\n"
    }
   }
  }
 ],
 "metadata": {
  "kernelspec": {
   "display_name": "Python 3",
   "language": "python",
   "name": "python3"
  },
  "language_info": {
   "codemirror_mode": {
    "name": "ipython",
    "version": 2
   },
   "file_extension": ".py",
   "mimetype": "text/x-python",
   "name": "python",
   "nbconvert_exporter": "python",
   "pygments_lexer": "ipython2",
   "version": "2.7.6"
  }
 },
 "nbformat": 4,
 "nbformat_minor": 0
}
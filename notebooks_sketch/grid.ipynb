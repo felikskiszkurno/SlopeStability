{
 "cells": [
  {
   "cell_type": "code",
   "execution_count": 1,
   "metadata": {},
   "outputs": [],
   "source": [
    "import numpy as np\n",
    "import matplotlib.pyplot as plt\n",
    "import pandas as pd\n",
    "import pygimli as pg\n",
    "import pygimli.meshtools as mt\n",
    "import pygimli.physics.ert as ert"
   ]
  },
  {
   "cell_type": "code",
   "execution_count": 2,
   "metadata": {},
   "outputs": [],
   "source": [
    "number_of_tests = 50\n",
    "rho_spread_factor = 1.5\n",
    "rho_max = 150\n",
    "layers_min = 1\n",
    "layers_max = 5\n",
    "min_depth = 1\n",
    "max_depth = 25\n",
    "\n",
    "world_boundary_v = [-10 * max_depth, 0]  # [right, left border] relatively to the middle\n",
    "world_boundary_h = [10 * max_depth, -4 * max_depth]  # [top, bottom border]\n"
   ]
  },
  {
   "cell_type": "code",
   "execution_count": 3,
   "metadata": {},
   "outputs": [],
   "source": [
    "layers_pos = [-8, -18]\n",
    "resistivity_map = [[1, 20], [2, 50], [3, 150]]"
   ]
  },
  {
   "cell_type": "code",
   "execution_count": 4,
   "metadata": {
    "collapsed": true,
    "jupyter": {
     "outputs_hidden": true
    }
   },
   "outputs": [
    {
     "name": "stderr",
     "output_type": "stream",
     "text": [
      "19/01/21 - 17:16:15 - pyGIMLi - \u001B[0;32;49mINFO\u001B[0m - Cache /home/felikskrno/anaconda3/envs/MasterEnv/lib/python3.7/site-packages/pygimli/physics/ert/ert.py:createGeometricFactors restored (0.0s x 2): /home/felikskrno/.var/app/com.jetbrains.PyCharm-Professional/config/pygimli/15058862444113807336\n",
      "19/01/21 - 17:16:15 - pyGIMLi - \u001B[0;32;49mINFO\u001B[0m - Found 2 regions.\n",
      "19/01/21 - 17:16:15 - pyGIMLi - \u001B[0;32;49mINFO\u001B[0m - Region with smallest marker set to background (marker=1)\n",
      "19/01/21 - 17:16:15 - pyGIMLi - \u001B[0;32;49mINFO\u001B[0m - Creating forward mesh from region infos.\n",
      "19/01/21 - 17:16:15 - Core - \u001B[0;33;49mWARNING\u001B[0m - Region Nr: 1  is background and should not get a model transformation.\n",
      "19/01/21 - 17:16:15 - Core - \u001B[0;33;49mWARNING\u001B[0m - Region Nr: 1  is background and should not get a model control.\n",
      "19/01/21 - 17:16:15 - pyGIMLi - \u001B[0;32;49mINFO\u001B[0m - Creating refined mesh (H2) to solve forward task.\n",
      "19/01/21 - 17:16:15 - pyGIMLi - \u001B[0;32;49mINFO\u001B[0m - Starting inversion.\n",
      "19/01/21 - 17:16:15 - pyGIMLi - \u001B[0;32;49mINFO\u001B[0m - Set default startmodel to median(data values)=26.606888203853856\n",
      "19/01/21 - 17:16:15 - pyGIMLi - \u001B[0;32;49mINFO\u001B[0m - Created startmodel from forward operator: 2373 [26.606888203853856,...,26.606888203853856]\n"
     ]
    },
    {
     "name": "stdout",
     "output_type": "stream",
     "text": [
      "relativeError set to a value > 0.5 .. assuming this is a percentage Error level dividing them by 100\n",
      "Data error estimate (min:max)  0.010000943083472701 : 0.0459008826982054\n",
      "\u001B[0;31;49m<class 'pygimli.physics.ert.ert.ERTManager'>.applyMesh(methodManager.py:647) : Mesh: Nodes: 1745 Cells: 3160 Boundaries: 4904\u001B[0m\n",
      "fop: <pygimli.physics.ert.ert.ERTModelling object at 0x7f376c3e9270>\n",
      "Data transformation: <pygimli.core._pygimli_.RTransLogLU object at 0x7f376c3f0c30>\n",
      "Model transformation: <pygimli.core._pygimli_.RTransLog object at 0x7f376c3e9070>\n",
      "min/max (data): 18.96/63.91\n",
      "min/max (error): 1.0%/4.59%\n",
      "min/max (start model): 26.61/26.61\n",
      "--------------------------------------------------------------------------------\n",
      "--------------------------------------------------------------------------------\n",
      "inv.iter 2 ... chi² = 157.55 (dPhi = 23.86%) lam: 20.0\n",
      "--------------------------------------------------------------------------------\n",
      "inv.iter 3 ... chi² = 157.64 (dPhi = -0.06%) lam: 20.0\n",
      "--------------------------------------------------------------------------------\n",
      "inv.iter 4 ... chi² = 157.82 (dPhi = -0.11%) lam: 20.0\n",
      "################################################################################\n",
      "#                Abort criteria reached: dPhi = -0.11 (< 2.0%)                 #\n",
      "################################################################################\n",
      "Warning! unused keyword arguments {'paraDX': 0.25, 'paraMaxCellSize': 5, 'paraDepth': 25, 'quality': 34, 'zPower': 0.4}\n"
     ]
    }
   ],
   "source": [
    "\n",
    "\n",
    "test_results = {}\n",
    "\n",
    "# INPUT MODEL - SUBSURFACE START #\n",
    "world = mt.createWorld(start=world_boundary_v, end=world_boundary_h,\n",
    "                       layers=layers_pos)  # ,\n",
    "# marker=np.linspace(1, tests_horizontal['layer_n']['hor_1'],\n",
    "#                  tests_horizontal['layer_n']['hor_1']))\n",
    "\n",
    "geometry = world  # +block\n",
    "\n",
    "measurement_scheme = ert.createERTData(elecs=np.linspace(start=-45, stop=45, num=91), schemeName='dd')\n",
    "for electrode in measurement_scheme.sensors():\n",
    "    geometry.createNode(electrode)\n",
    "    geometry.createNode(electrode - [0, 0.1])  # What does it do?\n",
    "\n",
    "mesh = mt.createMesh(geometry, quality=34)  # , area=2)#\n",
    "\n",
    " # [0]\n",
    "\n",
    "input_model = pg.solver.parseMapToCellArray(resistivity_map, mesh)  # rename to input_mesh\n",
    "\n",
    "# INPUT MODEL - SUBSURFACE MODEL END ###\n",
    "\n",
    "# SIMULATE ERT MEASUREMENT - START ###\n",
    "data = ert.simulate(mesh, scheme=measurement_scheme, res=resistivity_map, noiseLevel=1, noiseAbs=1e-6, seed=1337)\n",
    "data.remove(data['rhoa'] < 0)\n",
    "# SIMULATE ERT MEASUREMENT - END ###\n",
    "\n",
    "ert_manager = ert.ERTManager(sr=False, useBert=True, verbose=True, debug=False)\n",
    "\n",
    "# RUN INVERSION #\n",
    "k0 = pg.physics.ert.createGeometricFactors(data)\n",
    "model_inverted = ert_manager.invert(data=data, lam=20, paraDX=0.25, paraMaxCellSize=5, paraDepth=max_depth, quality=34,\n",
    "                                    zPower=0.4)\n",
    "result = ert_manager.inv.model\n",
    "result_array = result.array()\n",
    "\n",
    "input_model2 = pg.interpolate(srcMesh=mesh, inVec=input_model, destPos=ert_manager.paraDomain.cellCenters())\n",
    "\n",
    "input_model2_array = input_model2.array()\n",
    "\n",
    "experiment_results = pd.DataFrame(data={'X': ert_manager.paraDomain.cellCenters().array()[:, 0],\n",
    "                                        'Y': ert_manager.paraDomain.cellCenters().array()[:, 1],\n",
    "                                        'Z': ert_manager.paraDomain.cellCenters().array()[:, 2],\n",
    "                                        'INM': input_model2_array,\n",
    "                                        'RES': result_array,\n",
    "                                        'CLASS': input_class}\n",
    "\n",
    "\n",
    "#experiment_results.to_csv('results/results/'+test_name+'.csv')"
   ]
  },
  {
   "cell_type": "code",
   "execution_count": 5,
   "metadata": {},
   "outputs": [
    {
     "name": "stdout",
     "output_type": "stream",
     "text": [
      "<bound method cellCenters of <pygimli.core._pygimli_.Mesh object at 0x5593a99d7420>>\n"
     ]
    }
   ],
   "source": [
    "grid = pg.createGrid(x=np.linspace(start=-50, stop=50, num=101),\n",
    "                                y=-pg.cat([0], pg.utils.grange(0.5, max_depth, n=2*max_depth+1)),\n",
    "                                marker=2)\n",
    "print(grid.cellCenters)"
   ]
  },
  {
   "cell_type": "code",
   "execution_count": 19,
   "metadata": {},
   "outputs": [
    {
     "name": "stdout",
     "output_type": "stream",
     "text": [
      "5100 [20.0,...,150.0]\n",
      "[-49.5 -48.5 -47.5 ...  47.5  48.5  49.5]\n",
      "[ -0.25   -0.25   -0.25  ... -24.755 -24.755 -24.755]\n",
      "[0. 0. 0. ... 0. 0. 0.]\n",
      "Input len: 2373\n",
      "Result len: 2373\n",
      "paraDomain len: 2373\n",
      "[ -2.0971182   -0.12241292  -0.11027959 ... -23.32417449 -22.4320398\n",
      " -23.59430121]\n",
      "[0. 0. 0. ... 0. 0. 0.]\n"
     ]
    }
   ],
   "source": [
    "input_model3 = pg.interpolate(srcMesh=mesh, inVec=input_model, destPos=grid.cellCenters())\n",
    "print(input_model3)\n",
    "print(grid.cellCenters().array()[:,0])\n",
    "print(grid.cellCenters().array()[:,1])\n",
    "print(grid.cellCenters().array()[:,2])\n",
    "\n",
    "input_model4= pg.interpolate(srcMesh=mesh, inVec=input_model, destPos=ert_manager.paraDomain.cellCenters())\n",
    "print('Input len: '+str(len(input_model4.array())))\n",
    "print('Result len: '+str(len(result.array())))\n",
    "print('paraDomain len: '+str(len(ert_manager.paraDomain.cellCenters().array()[:,0])))\n",
    "print(ert_manager.paraDomain.cellCenters().array()[:,1])\n",
    "print(ert_manager.paraDomain.cellCenters().array()[:,2])"
   ]
  },
  {
   "cell_type": "code",
   "execution_count": 20,
   "outputs": [
    {
     "ename": "RuntimeError",
     "evalue": "/home/wagner/miniconda3/conda-bld/pygimli_1589132014332/work/gimli/gimli/core/src/interpolate.cpp: 79\t\tvoid GIMLI::interpolate(const GIMLI::Mesh&, const RMatrix&, const R3Vector&, GIMLI::RMatrix&, bool, double)  data.size not nodeCount and cellCount 1 x 2373 != 2683 != 4729",
     "output_type": "error",
     "traceback": [
      "\u001B[0;31m---------------------------------------------------------------------------\u001B[0m",
      "\u001B[0;31mRuntimeError\u001B[0m                              Traceback (most recent call last)",
      "\u001B[0;32m<ipython-input-20-e0740761538b>\u001B[0m in \u001B[0;36m<module>\u001B[0;34m\u001B[0m\n\u001B[0;32m----> 1\u001B[0;31m \u001B[0mmodel_result_grid\u001B[0m \u001B[0;34m=\u001B[0m \u001B[0mpg\u001B[0m\u001B[0;34m.\u001B[0m\u001B[0minterpolate\u001B[0m\u001B[0;34m(\u001B[0m\u001B[0msrcMesh\u001B[0m\u001B[0;34m=\u001B[0m\u001B[0mmesh\u001B[0m\u001B[0;34m,\u001B[0m \u001B[0minVec\u001B[0m\u001B[0;34m=\u001B[0m\u001B[0mresult\u001B[0m\u001B[0;34m,\u001B[0m \u001B[0mdestPos\u001B[0m\u001B[0;34m=\u001B[0m\u001B[0mgrid\u001B[0m\u001B[0;34m.\u001B[0m\u001B[0mcellCenters\u001B[0m\u001B[0;34m(\u001B[0m\u001B[0;34m)\u001B[0m\u001B[0;34m)\u001B[0m\u001B[0;34m\u001B[0m\u001B[0;34m\u001B[0m\u001B[0m\n\u001B[0m\u001B[1;32m      2\u001B[0m \u001B[0;34m\u001B[0m\u001B[0m\n\u001B[1;32m      3\u001B[0m \u001B[0;34m\u001B[0m\u001B[0m\n",
      "\u001B[0;32m~/anaconda3/envs/MasterEnv/lib/python3.7/site-packages/pygimli/meshtools/mapping.py\u001B[0m in \u001B[0;36minterpolate\u001B[0;34m(*args, **kwargs)\u001B[0m\n\u001B[1;32m    579\u001B[0m         return pg.core._pygimli_.interpolate(*args, **kwargs,\n\u001B[1;32m    580\u001B[0m                                              \u001B[0mfillValue\u001B[0m\u001B[0;34m=\u001B[0m\u001B[0mfallback\u001B[0m\u001B[0;34m,\u001B[0m\u001B[0;34m\u001B[0m\u001B[0;34m\u001B[0m\u001B[0m\n\u001B[0;32m--> 581\u001B[0;31m                                              verbose=verbose)\n\u001B[0m\u001B[1;32m    582\u001B[0m         \u001B[0;31m# end if pg.core:\u001B[0m\u001B[0;34m\u001B[0m\u001B[0;34m\u001B[0m\u001B[0;34m\u001B[0m\u001B[0m\n\u001B[1;32m    583\u001B[0m \u001B[0;34m\u001B[0m\u001B[0m\n",
      "\u001B[0;31mRuntimeError\u001B[0m: /home/wagner/miniconda3/conda-bld/pygimli_1589132014332/work/gimli/gimli/core/src/interpolate.cpp: 79\t\tvoid GIMLI::interpolate(const GIMLI::Mesh&, const RMatrix&, const R3Vector&, GIMLI::RMatrix&, bool, double)  data.size not nodeCount and cellCount 1 x 2373 != 2683 != 4729"
     ]
    }
   ],
   "source": [
    "model_result_grid = pg.interpolate(srcMesh=mesh, inVec=result, destPos=grid.cellCenters())\n"
   ],
   "metadata": {
    "collapsed": false,
    "pycharm": {
     "name": "#%%\n"
    }
   }
  },
  {
   "cell_type": "code",
   "execution_count": 1,
   "metadata": {
    "collapsed": true,
    "jupyter": {
     "outputs_hidden": true
    }
   },
   "outputs": [
    {
     "ename": "NameError",
     "evalue": "name 'ert_manager' is not defined",
     "output_type": "error",
     "traceback": [
      "\u001B[0;31m---------------------------------------------------------------------------\u001B[0m",
      "\u001B[0;31mNameError\u001B[0m                                 Traceback (most recent call last)",
      "\u001B[0;32m<ipython-input-1-abe602f96ba1>\u001B[0m in \u001B[0;36m<module>\u001B[0;34m\u001B[0m\n\u001B[0;32m----> 1\u001B[0;31m model_grid = ert_manager.invert(data=data, mesh=grid, lam=20, paraDX=0.25, paraMaxCellSize=5, paraDepth=max_depth, quality=34,\n\u001B[0m\u001B[1;32m      2\u001B[0m                                     zPower=0.4)\n\u001B[1;32m      3\u001B[0m \u001B[0;34m\u001B[0m\u001B[0m\n\u001B[1;32m      4\u001B[0m \u001B[0;34m\u001B[0m\u001B[0m\n",
      "\u001B[0;31mNameError\u001B[0m: name 'ert_manager' is not defined"
     ]
    }
   ],
   "source": [
    "model_grid = ert_manager.invert(data=data, mesh=grid, lam=20, paraDX=0.25, paraMaxCellSize=5, paraDepth=max_depth, quality=34,\n",
    "                                    zPower=0.4)\n"
   ]
  },
  {
   "cell_type": "code",
   "execution_count": 46,
   "metadata": {},
   "outputs": [
    {
     "name": "stdout",
     "output_type": "stream",
     "text": [
      "(array([3700, 3701, 3702, ..., 5097, 5098, 5099]),)\n"
     ]
    }
   ],
   "source": [
    "print(np.where(grid.cellCenters().array()[:,1] <= depth))"
   ]
  },
  {
   "cell_type": "code",
   "execution_count": 54,
   "metadata": {},
   "outputs": [
    {
     "name": "stdout",
     "output_type": "stream",
     "text": [
      "[3. 3. 3. ... 3. 3. 3.]\n",
      "-8\n",
      "-18\n",
      "[1. 1. 1. ... 3. 3. 3.]\n",
      "-333934.4141381147\n"
     ]
    }
   ],
   "source": [
    "class_array = np.ones_like(input_model3)*resistivity_map[-1][0]\n",
    "layer_id = 1\n",
    "layer_depth_previous = 0\n",
    "for depth in layers_pos:\n",
    "    class_array[np.where((grid.cellCenters().array()[:,1] >= depth) & (grid.cellCenters().array()[:,1] < layer_depth_previous))] = layer_id\n",
    "    layer_depth_previous = depth\n",
    "    layer_id += 1"
   ]
  },
  {
   "cell_type": "code",
   "execution_count": 39,
   "metadata": {},
   "outputs": [
    {
     "data": {
      "text/plain": [
       "<function matplotlib.pyplot.show(close=None, block=None)>"
      ]
     },
     "execution_count": 39,
     "metadata": {},
     "output_type": "execute_result"
    },
    {
     "data": {
      "image/png": "[encoded data removed]",
      "text/plain": [
       "<Figure size 432x288 with 1 Axes>"
      ]
     },
     "metadata": {
      "needs_background": "light"
     },
     "output_type": "display_data"
    }
   ],
   "source": [
    "plt.hist(input_model3)\n",
    "plt.show"
   ]
  },
  {
   "cell_type": "code",
   "execution_count": 25,
   "metadata": {
    "pycharm": {
     "name": "#%%\n"
    }
   },
   "outputs": [
    {
     "name": "stdout",
     "output_type": "stream",
     "text": [
      "4729 [50.0,...,150.0]\n"
     ]
    },
    {
     "ename": "AttributeError",
     "evalue": "'Mesh' object has no attribute 'paraDomain'",
     "output_type": "error",
     "traceback": [
      "\u001B[0;31m---------------------------------------------------------------------------\u001B[0m",
      "\u001B[0;31mAttributeError\u001B[0m                            Traceback (most recent call last)",
      "\u001B[0;32m<ipython-input-25-c5e778eca822>\u001B[0m in \u001B[0;36m<module>\u001B[0;34m\u001B[0m\n\u001B[1;32m      2\u001B[0m \u001B[0mplt\u001B[0m\u001B[0;34m.\u001B[0m\u001B[0mhist\u001B[0m\u001B[0;34m(\u001B[0m\u001B[0minput_model\u001B[0m\u001B[0;34m)\u001B[0m\u001B[0;34m\u001B[0m\u001B[0;34m\u001B[0m\u001B[0m\n\u001B[1;32m      3\u001B[0m \u001B[0mplt\u001B[0m\u001B[0;34m.\u001B[0m\u001B[0mshow\u001B[0m\u001B[0;34m\u001B[0m\u001B[0;34m\u001B[0m\u001B[0m\n\u001B[0;32m----> 4\u001B[0;31m \u001B[0mprint\u001B[0m\u001B[0;34m(\u001B[0m\u001B[0mmesh\u001B[0m\u001B[0;34m.\u001B[0m\u001B[0mparaDomain\u001B[0m\u001B[0;34m.\u001B[0m\u001B[0mcellCenters\u001B[0m\u001B[0;34m(\u001B[0m\u001B[0;34m)\u001B[0m\u001B[0;34m.\u001B[0m\u001B[0marray\u001B[0m\u001B[0;34m)\u001B[0m\u001B[0;34m\u001B[0m\u001B[0;34m\u001B[0m\u001B[0m\n\u001B[0m\u001B[1;32m      5\u001B[0m \u001B[0;34m\u001B[0m\u001B[0m\n",
      "\u001B[0;31mAttributeError\u001B[0m: 'Mesh' object has no attribute 'paraDomain'"
     ]
    },
    {
     "data": {
      "text/plain": "<Figure size 432x288 with 1 Axes>",
      "image/png": "[encoded data removed]"
     },
     "metadata": {
      "needs_background": "light"
     },
     "output_type": "display_data"
    }
   ],
   "source": [
    "print(input_model)\n",
    "plt.hist(input_model)\n",
    "plt.show\n",
    "print(mesh.paraDomain.cellCenters().array)"
   ]
  },
  {
   "cell_type": "code",
   "execution_count": 31,
   "outputs": [
    {
     "data": {
      "text/plain": "<function matplotlib.pyplot.show(close=None, block=None)>"
     },
     "execution_count": 31,
     "metadata": {},
     "output_type": "execute_result"
    },
    {
     "data": {
      "text/plain": "<Figure size 432x288 with 1 Axes>",
      "image/png": "[encoded data removed]"
     },
     "metadata": {
      "needs_background": "light"
     },
     "output_type": "display_data"
    }
   ],
   "source": [
    "classes = []\n",
    "resistivity_values = []\n",
    "for pair in resistivity_map:\n",
    "    resistivity_values.append(pair[1])\n",
    "#print(resistivity_values)\n",
    "\n",
    "for value in input_model2:\n",
    "    #print(value)\n",
    "    res_diff = np.abs(value*np.ones_like(resistivity_values)-resistivity_values)\n",
    "    #print(res_diff)\n",
    "    res_index = np.argmin(res_diff)\n",
    "    #print(res_index)\n",
    "    classes.append(res_index)\n",
    "\n",
    "plt.hist(classes)\n",
    "plt.show\n"
   ],
   "metadata": {
    "collapsed": false,
    "pycharm": {
     "name": "#%%\n"
    }
   }
  }
 ],
 "metadata": {
  "kernelspec": {
   "display_name": "Python 3",
   "language": "python",
   "name": "python3"
  },
  "language_info": {
   "codemirror_mode": {
    "name": "ipython",
    "version": 3
   },
   "file_extension": ".py",
   "mimetype": "text/x-python",
   "name": "python",
   "nbconvert_exporter": "python",
   "pygments_lexer": "ipython3",
   "version": "3.7.9"
  }
 },
 "nbformat": 4,
 "nbformat_minor": 4
}
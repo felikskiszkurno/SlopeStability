{
 "cells": [
  {
   "cell_type": "markdown",
   "source": [
    "# Slope Stability\n",
    "### General use notebook\n",
    "Use it to run the project in Jupyter enviroment"
   ],
   "metadata": {
    "collapsed": false
   }
  },
  {
   "cell_type": "markdown",
   "source": [
    "### Imports"
   ],
   "metadata": {
    "collapsed": false,
    "pycharm": {
     "name": "#%% md\n"
    }
   }
  },
  {
   "cell_type": "code",
   "execution_count": null,
   "metadata": {
    "collapsed": true,
    "pycharm": {
     "name": "#%%\n"
    }
   },
   "outputs": [],
   "source": [
    "import matplotlib.pyplot as plt\n",
    "import numpy as np\n",
    "import scipy\n",
    "\n",
    "import slopestabilitytools\n",
    "import slostabcreatedata\n",
    "import slopestabilityML\n",
    "import settings\n",
    "import test_definitions\n",
    "\n",
    "settings.init()\n",
    "test_definitions.init()"
   ]
  },
  {
   "cell_type": "markdown",
   "source": [
    "### Create data\n",
    "##### Config"
   ],
   "metadata": {
    "collapsed": false,
    "pycharm": {
     "name": "#%% md\n"
    }
   }
  },
  {
   "cell_type": "code",
   "execution_count": null,
   "outputs": [],
   "source": [
    "create_new_data = False # set to True if you need to reassign the classes\n",
    "create_new_data_only = False # set to False in order to run ML classifications\n",
    "reassign_classes = False; class_type = 'norm'"
   ],
   "metadata": {
    "collapsed": false,
    "pycharm": {
     "name": "#%%\n"
    }
   }
  },
  {
   "cell_type": "markdown",
   "source": [
    "#### Run inversions"
   ],
   "metadata": {
    "collapsed": false,
    "pycharm": {
     "name": "#%% md\n"
    }
   }
  },
  {
   "cell_type": "code",
   "execution_count": null,
   "outputs": [],
   "source": [
    "tests_horizontal = test_definitions.test_definitions\n",
    "\n",
    "test_results = {}\n",
    "\n",
    "for test_name in tests_horizontal.keys():\n",
    "    test_result_curr, test_rho_max, test_rho_min = slostabcreatedata.create_data(test_name,\n",
    "                                                                                 tests_horizontal[test_name],\n",
    "                                                                                 max_depth)\n",
    "    test_results.update({test_name: test_result_curr})\n",
    "    del test_result_curr\n",
    "\n",
    "    # Plot and save figures\n",
    "    slopestabilitytools.plot_and_save(test_name, test_results[test_name], 'Test: ' + test_name, test_rho_max,\n",
    "                                      test_rho_min)"
   ],
   "metadata": {
    "collapsed": false,
    "pycharm": {
     "name": "#%%\n"
    }
   }
  },
  {
   "cell_type": "markdown",
   "source": [
    "### Evaluate existing data with ML classifiers"
   ],
   "metadata": {
    "collapsed": false,
    "pycharm": {
     "name": "#%% md\n"
    }
   }
  },
  {
   "cell_type": "code",
   "execution_count": null,
   "outputs": [],
   "source": [
    "ml_results = slopestabilityML.run_all_tests(test_results)"
   ],
   "metadata": {
    "collapsed": false,
    "pycharm": {
     "name": "#%%\n"
    }
   }
  }
 ],
 "metadata": {
  "kernelspec": {
   "display_name": "Python 3",
   "language": "python",
   "name": "python3"
  },
  "language_info": {
   "codemirror_mode": {
    "name": "ipython",
    "version": 2
   },
   "file_extension": ".py",
   "mimetype": "text/x-python",
   "name": "python",
   "nbconvert_exporter": "python",
   "pygments_lexer": "ipython2",
   "version": "2.7.6"
  }
 },
 "nbformat": 4,
 "nbformat_minor": 0
}